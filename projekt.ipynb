{
 "cells": [
  {
   "cell_type": "markdown",
   "metadata": {},
   "source": [
    "## Australian Vehicle Prices\n",
    "### Jan Brzozowski, Jan Gębal"
   ]
  },
  {
   "cell_type": "markdown",
   "metadata": {},
   "source": [
    "Projekt, którego celem było zbadanie zbioru [Australian Vehicle Prices](https://www.kaggle.com/datasets/nelgiriyewithana/australian-vehicle-prices) i klasyfikacja obiektów ze względu na cenę, korzystając z klasyfikatorów: drzewo decyzyjne i las losowy."
   ]
  },
  {
   "cell_type": "code",
   "execution_count": 136,
   "metadata": {},
   "outputs": [],
   "source": [
    "import numpy as np\n",
    "import pandas as pd\n",
    "from sklearn.model_selection import train_test_split\n",
    "from sklearn import tree\n",
    "from sklearn.metrics import confusion_matrix\n",
    "from sklearn import ensemble\n",
    "import seaborn as sns\n",
    "import matplotlib.pyplot as plt\n",
    "import matplotlib.pyplot as plt"
   ]
  },
  {
   "cell_type": "markdown",
   "metadata": {},
   "source": [
    "### Wstępna analiza"
   ]
  },
  {
   "cell_type": "code",
   "execution_count": 3,
   "metadata": {},
   "outputs": [
    {
     "data": {
      "text/html": [
       "<div>\n",
       "<style scoped>\n",
       "    .dataframe tbody tr th:only-of-type {\n",
       "        vertical-align: middle;\n",
       "    }\n",
       "\n",
       "    .dataframe tbody tr th {\n",
       "        vertical-align: top;\n",
       "    }\n",
       "\n",
       "    .dataframe thead th {\n",
       "        text-align: right;\n",
       "    }\n",
       "</style>\n",
       "<table border=\"1\" class=\"dataframe\">\n",
       "  <thead>\n",
       "    <tr style=\"text-align: right;\">\n",
       "      <th></th>\n",
       "      <th>Brand</th>\n",
       "      <th>Year</th>\n",
       "      <th>Model</th>\n",
       "      <th>Car/Suv</th>\n",
       "      <th>Title</th>\n",
       "      <th>UsedOrNew</th>\n",
       "      <th>Transmission</th>\n",
       "      <th>Engine</th>\n",
       "      <th>DriveType</th>\n",
       "      <th>FuelType</th>\n",
       "      <th>FuelConsumption</th>\n",
       "      <th>Kilometres</th>\n",
       "      <th>ColourExtInt</th>\n",
       "      <th>Location</th>\n",
       "      <th>CylindersinEngine</th>\n",
       "      <th>BodyType</th>\n",
       "      <th>Doors</th>\n",
       "      <th>Seats</th>\n",
       "      <th>Price</th>\n",
       "    </tr>\n",
       "  </thead>\n",
       "  <tbody>\n",
       "    <tr>\n",
       "      <th>0</th>\n",
       "      <td>Ssangyong</td>\n",
       "      <td>2022.0</td>\n",
       "      <td>Rexton</td>\n",
       "      <td>Sutherland Isuzu Ute</td>\n",
       "      <td>2022 Ssangyong Rexton Ultimate (awd)</td>\n",
       "      <td>DEMO</td>\n",
       "      <td>Automatic</td>\n",
       "      <td>4 cyl, 2.2 L</td>\n",
       "      <td>AWD</td>\n",
       "      <td>Diesel</td>\n",
       "      <td>8.7 L / 100 km</td>\n",
       "      <td>5595</td>\n",
       "      <td>White / Black</td>\n",
       "      <td>Caringbah, NSW</td>\n",
       "      <td>4 cyl</td>\n",
       "      <td>SUV</td>\n",
       "      <td>4 Doors</td>\n",
       "      <td>7 Seats</td>\n",
       "      <td>51990</td>\n",
       "    </tr>\n",
       "    <tr>\n",
       "      <th>1</th>\n",
       "      <td>MG</td>\n",
       "      <td>2022.0</td>\n",
       "      <td>MG3</td>\n",
       "      <td>Hatchback</td>\n",
       "      <td>2022 MG MG3 Auto Excite (with Navigation)</td>\n",
       "      <td>USED</td>\n",
       "      <td>Automatic</td>\n",
       "      <td>4 cyl, 1.5 L</td>\n",
       "      <td>Front</td>\n",
       "      <td>Premium</td>\n",
       "      <td>6.7 L / 100 km</td>\n",
       "      <td>16</td>\n",
       "      <td>Black / Black</td>\n",
       "      <td>Brookvale, NSW</td>\n",
       "      <td>4 cyl</td>\n",
       "      <td>Hatchback</td>\n",
       "      <td>5 Doors</td>\n",
       "      <td>5 Seats</td>\n",
       "      <td>19990</td>\n",
       "    </tr>\n",
       "    <tr>\n",
       "      <th>2</th>\n",
       "      <td>BMW</td>\n",
       "      <td>2022.0</td>\n",
       "      <td>430I</td>\n",
       "      <td>Coupe</td>\n",
       "      <td>2022 BMW 430I M Sport</td>\n",
       "      <td>USED</td>\n",
       "      <td>Automatic</td>\n",
       "      <td>4 cyl, 2 L</td>\n",
       "      <td>Rear</td>\n",
       "      <td>Premium</td>\n",
       "      <td>6.6 L / 100 km</td>\n",
       "      <td>8472</td>\n",
       "      <td>Grey / White</td>\n",
       "      <td>Sylvania, NSW</td>\n",
       "      <td>4 cyl</td>\n",
       "      <td>Coupe</td>\n",
       "      <td>2 Doors</td>\n",
       "      <td>4 Seats</td>\n",
       "      <td>108988</td>\n",
       "    </tr>\n",
       "    <tr>\n",
       "      <th>3</th>\n",
       "      <td>Mercedes-Benz</td>\n",
       "      <td>2011.0</td>\n",
       "      <td>E500</td>\n",
       "      <td>Coupe</td>\n",
       "      <td>2011 Mercedes-Benz E500 Elegance</td>\n",
       "      <td>USED</td>\n",
       "      <td>Automatic</td>\n",
       "      <td>8 cyl, 5.5 L</td>\n",
       "      <td>Rear</td>\n",
       "      <td>Premium</td>\n",
       "      <td>11 L / 100 km</td>\n",
       "      <td>136517</td>\n",
       "      <td>White / Brown</td>\n",
       "      <td>Mount Druitt, NSW</td>\n",
       "      <td>8 cyl</td>\n",
       "      <td>Coupe</td>\n",
       "      <td>2 Doors</td>\n",
       "      <td>4 Seats</td>\n",
       "      <td>32990</td>\n",
       "    </tr>\n",
       "    <tr>\n",
       "      <th>4</th>\n",
       "      <td>Renault</td>\n",
       "      <td>2022.0</td>\n",
       "      <td>Arkana</td>\n",
       "      <td>SUV</td>\n",
       "      <td>2022 Renault Arkana Intens</td>\n",
       "      <td>USED</td>\n",
       "      <td>Automatic</td>\n",
       "      <td>4 cyl, 1.3 L</td>\n",
       "      <td>Front</td>\n",
       "      <td>Unleaded</td>\n",
       "      <td>6 L / 100 km</td>\n",
       "      <td>1035</td>\n",
       "      <td>Grey / Black</td>\n",
       "      <td>Castle Hill, NSW</td>\n",
       "      <td>4 cyl</td>\n",
       "      <td>SUV</td>\n",
       "      <td>4 Doors</td>\n",
       "      <td>5 Seats</td>\n",
       "      <td>34990</td>\n",
       "    </tr>\n",
       "  </tbody>\n",
       "</table>\n",
       "</div>"
      ],
      "text/plain": [
       "           Brand    Year   Model               Car/Suv  \\\n",
       "0      Ssangyong  2022.0  Rexton  Sutherland Isuzu Ute   \n",
       "1             MG  2022.0     MG3             Hatchback   \n",
       "2            BMW  2022.0    430I                 Coupe   \n",
       "3  Mercedes-Benz  2011.0    E500                 Coupe   \n",
       "4        Renault  2022.0  Arkana                   SUV   \n",
       "\n",
       "                                       Title UsedOrNew Transmission  \\\n",
       "0       2022 Ssangyong Rexton Ultimate (awd)      DEMO    Automatic   \n",
       "1  2022 MG MG3 Auto Excite (with Navigation)      USED    Automatic   \n",
       "2                      2022 BMW 430I M Sport      USED    Automatic   \n",
       "3           2011 Mercedes-Benz E500 Elegance      USED    Automatic   \n",
       "4                 2022 Renault Arkana Intens      USED    Automatic   \n",
       "\n",
       "         Engine DriveType  FuelType FuelConsumption Kilometres   ColourExtInt  \\\n",
       "0  4 cyl, 2.2 L       AWD    Diesel  8.7 L / 100 km       5595  White / Black   \n",
       "1  4 cyl, 1.5 L     Front   Premium  6.7 L / 100 km         16  Black / Black   \n",
       "2    4 cyl, 2 L      Rear   Premium  6.6 L / 100 km       8472   Grey / White   \n",
       "3  8 cyl, 5.5 L      Rear   Premium   11 L / 100 km     136517  White / Brown   \n",
       "4  4 cyl, 1.3 L     Front  Unleaded    6 L / 100 km       1035   Grey / Black   \n",
       "\n",
       "            Location CylindersinEngine   BodyType     Doors     Seats   Price  \n",
       "0     Caringbah, NSW             4 cyl        SUV   4 Doors   7 Seats   51990  \n",
       "1     Brookvale, NSW             4 cyl  Hatchback   5 Doors   5 Seats   19990  \n",
       "2      Sylvania, NSW             4 cyl      Coupe   2 Doors   4 Seats  108988  \n",
       "3  Mount Druitt, NSW             8 cyl      Coupe   2 Doors   4 Seats   32990  \n",
       "4   Castle Hill, NSW             4 cyl        SUV   4 Doors   5 Seats   34990  "
      ]
     },
     "execution_count": 3,
     "metadata": {},
     "output_type": "execute_result"
    }
   ],
   "source": [
    "original_data = pd.read_csv(\"Australian Vehicle Prices.csv\")\n",
    "original_data.head()"
   ]
  },
  {
   "cell_type": "code",
   "execution_count": 4,
   "metadata": {},
   "outputs": [
    {
     "name": "stdout",
     "output_type": "stream",
     "text": [
      "\n",
      "========== original_data ==========\n",
      "Liczba obiektów =  16734\n",
      "Liczba atrybutów =  19\n",
      "\n",
      "========== original_data po usunięciu ==========\n",
      "Liczba obiektów =  14586\n",
      "Liczba atrybutów =  19\n"
     ]
    }
   ],
   "source": [
    "print(\"\\n========== original_data ==========\")\n",
    "\n",
    "# liczba obiektów\n",
    "print(\"Liczba obiektów = \", original_data.shape[0])\n",
    "\n",
    "# liczba atrybutów\n",
    "print(\"Liczba atrybutów = \", original_data.shape[1])\n",
    "\n",
    "# usunięcie danych brakujących\n",
    "original_data = original_data.dropna(how=\"any\")\n",
    "\n",
    "print(\"\\n========== original_data po usunięciu ==========\")\n",
    "# liczba obiektów\n",
    "print(\"Liczba obiektów = \", original_data.shape[0])\n",
    "\n",
    "# liczba atrybutów\n",
    "print(\"Liczba atrybutów = \", original_data.shape[1])"
   ]
  },
  {
   "cell_type": "code",
   "execution_count": 5,
   "metadata": {},
   "outputs": [
    {
     "name": "stdout",
     "output_type": "stream",
     "text": [
      "<class 'pandas.core.frame.DataFrame'>\n",
      "Int64Index: 14586 entries, 0 to 16733\n",
      "Data columns (total 19 columns):\n",
      " #   Column             Non-Null Count  Dtype  \n",
      "---  ------             --------------  -----  \n",
      " 0   Brand              14586 non-null  object \n",
      " 1   Year               14586 non-null  float64\n",
      " 2   Model              14586 non-null  object \n",
      " 3   Car/Suv            14586 non-null  object \n",
      " 4   Title              14586 non-null  object \n",
      " 5   UsedOrNew          14586 non-null  object \n",
      " 6   Transmission       14586 non-null  object \n",
      " 7   Engine             14586 non-null  object \n",
      " 8   DriveType          14586 non-null  object \n",
      " 9   FuelType           14586 non-null  object \n",
      " 10  FuelConsumption    14586 non-null  object \n",
      " 11  Kilometres         14586 non-null  object \n",
      " 12  ColourExtInt       14586 non-null  object \n",
      " 13  Location           14586 non-null  object \n",
      " 14  CylindersinEngine  14586 non-null  object \n",
      " 15  BodyType           14586 non-null  object \n",
      " 16  Doors              14586 non-null  object \n",
      " 17  Seats              14586 non-null  object \n",
      " 18  Price              14586 non-null  object \n",
      "dtypes: float64(1), object(18)\n",
      "memory usage: 2.2+ MB\n"
     ]
    }
   ],
   "source": [
    "original_data.info()"
   ]
  },
  {
   "cell_type": "markdown",
   "metadata": {},
   "source": [
    "##### Wnioski\n",
    "Po usunięciu nieprawidłowych wartości mamy 14586 wierszy w naszym dataframe'ie. Każdy obiekt ma 19 atrybutów. Wszystkie atrybuty, oprócz 'Year' w naszym zbiorze danych są typu 'object' i będziemy musieli zamienić je na dane numeryczne (float/int)."
   ]
  },
  {
   "cell_type": "markdown",
   "metadata": {},
   "source": [
    "### Analiza poszczególnych atrybutów"
   ]
  },
  {
   "cell_type": "markdown",
   "metadata": {},
   "source": [
    "#### Brand"
   ]
  },
  {
   "cell_type": "code",
   "execution_count": 6,
   "metadata": {},
   "outputs": [
    {
     "name": "stdout",
     "output_type": "stream",
     "text": [
      "liczba wszystki marek = 64\n",
      "najpopularniejsze wartości:\n",
      " Toyota           2261\n",
      "Hyundai          1150\n",
      "Mazda            1073\n",
      "Holden           1024\n",
      "Ford              968\n",
      "Mitsubishi        960\n",
      "Nissan            837\n",
      "Volkswagen        785\n",
      "Kia               765\n",
      "Mercedes-Benz     531\n",
      "Subaru            520\n",
      "Audi              432\n",
      "BMW               402\n",
      "Honda             321\n",
      "Jeep              286\n",
      "MG                278\n",
      "Suzuki            266\n",
      "Land              197\n",
      "Isuzu             175\n",
      "GWM               174\n",
      "Name: Brand, dtype: int64\n",
      "udział 20 najpopularniejszych marek: 91.90319484437131%\n"
     ]
    }
   ],
   "source": [
    "print(f'liczba wszystki marek = {len(original_data.loc[:, \"Brand\"].unique())}')\n",
    "print(f'najpopularniejsze wartości:\\n {original_data.loc[:, \"Brand\"].value_counts()[:20]}')\n",
    "print(f'udział 20 najpopularniejszych marek: {100 * original_data.loc[:, \"Brand\"].value_counts()[:20].sum() / original_data.loc[:, \"Brand\"].value_counts().sum()}%')"
   ]
  },
  {
   "cell_type": "markdown",
   "metadata": {},
   "source": [
    "##### Wnioski\n",
    "'Brand' jest atrybutem kategorycznym nominalnym ze stosunkowo dużą liczbą unikalnych wartości. Na początku zdecydowaliśmy się zmniejszyć liczbę marek do 20 najpopularniejszych jako, że i tak stanowią one 91,9% procent wszystkich samochodów. By użyć ten atrybut w naszym modelu musimy go również zakodować. Zdecydowaliśmy się na 'target encoding' jako, że nie tworzy on dużej liczby rzadkich kolumn jak 'one-hot-encoding', ale również nie wprowadza fałszywego uporządkowania jak 'label encoding'. Problemem może być 'overfitting', który jest mitygowany poprzez średnią ważoną średniej wartości danej klasy i średniej dla wszystkich klas."
   ]
  },
  {
   "cell_type": "markdown",
   "metadata": {},
   "source": [
    "#### Year"
   ]
  },
  {
   "cell_type": "code",
   "execution_count": 7,
   "metadata": {},
   "outputs": [
    {
     "data": {
      "text/plain": [
       "count    14586.000000\n",
       "mean      2016.237899\n",
       "std          4.923525\n",
       "min       1978.000000\n",
       "25%       2013.000000\n",
       "50%       2017.000000\n",
       "75%       2020.000000\n",
       "max       2023.000000\n",
       "Name: Year, dtype: float64"
      ]
     },
     "execution_count": 7,
     "metadata": {},
     "output_type": "execute_result"
    }
   ],
   "source": [
    "original_data.loc[:, 'Year'].describe()"
   ]
  },
  {
   "cell_type": "markdown",
   "metadata": {},
   "source": [
    "##### Wnioski\n",
    "'Year' jest atrybutem ilościowym. Dla atrybutów ilościowych zdecydowaliśmy się usunąć wartości skrajne tj. większe niż średnia+3\\*odchylenie i mniejsze niż średnia-3\\*odchylenie."
   ]
  },
  {
   "cell_type": "markdown",
   "metadata": {},
   "source": [
    "#### Model"
   ]
  },
  {
   "cell_type": "code",
   "execution_count": 8,
   "metadata": {},
   "outputs": [
    {
     "name": "stdout",
     "output_type": "stream",
     "text": [
      "liczba unikalnych wartości = 646\n",
      "najpopularniejsze modele:\n",
      " Hilux          407\n",
      "Ranger         372\n",
      "Landcruiser    362\n",
      "Corolla        356\n",
      "I30            350\n",
      "RAV4           333\n",
      "Triton         285\n",
      "Commodore      272\n",
      "X-Trail        242\n",
      "Cerato         226\n",
      "Outlander      223\n",
      "Navara         223\n",
      "3              221\n",
      "Camry          218\n",
      "CX-5           204\n",
      "Rover          197\n",
      "Tiguan         193\n",
      "Colorado       186\n",
      "Tucson         182\n",
      "Grand          180\n",
      "Name: Model, dtype: int64\n"
     ]
    }
   ],
   "source": [
    "print(f'liczba unikalnych wartości = {len(original_data.loc[:, \"Model\"].unique())}')\n",
    "print(f'najpopularniejsze modele:\\n {original_data.loc[:, \"Model\"].value_counts()[:20]}')"
   ]
  },
  {
   "cell_type": "markdown",
   "metadata": {},
   "source": [
    "##### Wnioski\n",
    "'Model' jest kolejnym atrybutem kategorycznym nominalnym. Ma aż 646 unikalnych wartości. Nie byliśmy pewni jak potraktować ten atrybut, więc stworzyliśmy dwa warianty:\n",
    "<ol>\n",
    "    <li>\n",
    "        Całkowite usunięcie atrybutu. <br>\n",
    "        Motywacja: duża liczba unikalnych wartości sprawia, że atrybut nie będzie niósł ze sobą zbyt dużej wiedzy dla modelu. \n",
    "    </li>\n",
    "    <li>\n",
    "        Połączenie atrybutu 'Brand' i 'Model' <br>\n",
    "        Motywacja: 'Model' może nieść ze sobą jakąś informację. Należy jednak go połączyć z 'Brand', ponieważ dwie różne marki samochodów mogą mieć tak samo nazywający się model.\n",
    "    </li>\n",
    "</ol>"
   ]
  },
  {
   "cell_type": "markdown",
   "metadata": {},
   "source": [
    "#### Car/Suv"
   ]
  },
  {
   "cell_type": "code",
   "execution_count": 9,
   "metadata": {},
   "outputs": [
    {
     "name": "stdout",
     "output_type": "stream",
     "text": [
      "liczba unikalnych wartości = 245\n",
      "najpopularniejsze wartości:\n",
      " SUV                                 5921\n",
      "Hatchback                           2361\n",
      "Ute / Tray                          2067\n",
      "Sedan                               1897\n",
      "Wagon                                566\n",
      "Commercial                           305\n",
      "Coupe                                254\n",
      "Convertible                          100\n",
      "Rockdale Mazda New                    42\n",
      "Alto Blacktown MG                     37\n",
      "Dominelli GWM                         28\n",
      "Alto North Shore MG                   22\n",
      "Audi Alto Artarmon New Cars           22\n",
      "Liverpool Volkswagen New Cars         21\n",
      "Liverpool Mazda New Cars              20\n",
      "Kedron Haval & Great Wall Online      20\n",
      "Hillcrest GWM HAVAL                   19\n",
      "Springwood GWM HAVAL                  18\n",
      "Sydney City Volkswagen New            17\n",
      "Brighton Mazda New & Demo             17\n",
      "Name: Car/Suv, dtype: int64\n"
     ]
    }
   ],
   "source": [
    "print(f'liczba unikalnych wartości = {len(original_data.loc[:, \"Car/Suv\"].unique())}')\n",
    "print(f'najpopularniejsze wartości:\\n {original_data.loc[:, \"Car/Suv\"].value_counts()[:20]}')"
   ]
  },
  {
   "cell_type": "markdown",
   "metadata": {},
   "source": [
    "##### Wnioski\n",
    "'Car/Suv' jest niepotrzebnym atrybutem. Występują w nim opisy typu samochodu, które są zawarte w atrybucie 'BodyType', jak i zbędne  informacje o dealerach samochodowych sprzedających dany samochód (prawdopodobnie). "
   ]
  },
  {
   "cell_type": "markdown",
   "metadata": {},
   "source": [
    "#### Title"
   ]
  },
  {
   "cell_type": "code",
   "execution_count": 10,
   "metadata": {},
   "outputs": [
    {
     "name": "stdout",
     "output_type": "stream",
     "text": [
      "liczba unikalnych wartości = 7094\n",
      "najpopularniejsze wartości:\n",
      " 2019 Hyundai I30 Active                      60\n",
      "2020 Kia Cerato S                            52\n",
      "2020 Hyundai Kona Active (fwd)               38\n",
      "2020 Hyundai I30 Active                      35\n",
      "2021 Toyota Corolla Ascent Sport Hybrid      28\n",
      "2018 Toyota Hilux SR (4X4)                   27\n",
      "2018 Hyundai I30 Active                      26\n",
      "2017 Toyota Hilux SR (4X4)                   25\n",
      "2019 Toyota Hilux SR (4X4)                   22\n",
      "2019 Kia Cerato S                            21\n",
      "2019 Mitsubishi ASX ES (2WD)                 21\n",
      "2019 Toyota Corolla Ascent Sport (hybrid)    21\n",
      "2019 Toyota Camry Ascent (hybrid)            21\n",
      "2019 Kia Carnival S                          21\n",
      "2021 MG HS Core                              21\n",
      "2020 Subaru Forester 2.5I (awd)              19\n",
      "2018 Toyota Hilux Workmate                   18\n",
      "2016 Hyundai Accent Active                   18\n",
      "2021 Hyundai I30                             17\n",
      "2011 Holden Commodore SV6                    17\n",
      "Name: Title, dtype: int64\n"
     ]
    }
   ],
   "source": [
    "print(f'liczba unikalnych wartości = {len(original_data.loc[:, \"Title\"].unique())}')\n",
    "print(f'najpopularniejsze wartości:\\n {original_data.loc[:, \"Title\"].value_counts()[:20]}')"
   ]
  },
  {
   "cell_type": "markdown",
   "metadata": {},
   "source": [
    "##### Wnioski\n",
    "Kolejny zbędny atrybut. Informacje z tego atrybutu zawarte są w innych atrybutach."
   ]
  },
  {
   "cell_type": "markdown",
   "metadata": {},
   "source": [
    "#### Used or New"
   ]
  },
  {
   "cell_type": "code",
   "execution_count": 11,
   "metadata": {},
   "outputs": [
    {
     "name": "stdout",
     "output_type": "stream",
     "text": [
      "liczba unikalnych wartości = 3\n",
      "najpopularniejsze wartości:\n",
      " USED    13517\n",
      "NEW       633\n",
      "DEMO      436\n",
      "Name: UsedOrNew, dtype: int64\n"
     ]
    }
   ],
   "source": [
    "print(f'liczba unikalnych wartości = {len(original_data.loc[:, \"UsedOrNew\"].unique())}')\n",
    "print(f'najpopularniejsze wartości:\\n {original_data.loc[:, \"UsedOrNew\"].value_counts()}')"
   ]
  },
  {
   "cell_type": "markdown",
   "metadata": {},
   "source": [
    "##### Wnioski\n",
    "Atrybut kategoryczny porządkowy, mający 3 unikatowe wartości. Zostanie on zakodowany metodą 'label encoding' dzięki temu, że możemy powiedzieć, że USED(1) < DEMO(2) < NEW(3). "
   ]
  },
  {
   "cell_type": "markdown",
   "metadata": {},
   "source": [
    "#### Transmission"
   ]
  },
  {
   "cell_type": "code",
   "execution_count": 12,
   "metadata": {},
   "outputs": [
    {
     "name": "stdout",
     "output_type": "stream",
     "text": [
      "liczba unikalnych wartości = 3\n",
      "najpopularniejsze wartości:\n",
      " Automatic    12855\n",
      "Manual        1699\n",
      "-               32\n",
      "Name: Transmission, dtype: int64\n"
     ]
    }
   ],
   "source": [
    "print(f'liczba unikalnych wartości = {len(original_data.loc[:, \"Transmission\"].unique())}')\n",
    "print(f'najpopularniejsze wartości:\\n {original_data.loc[:, \"Transmission\"].value_counts()}')"
   ]
  },
  {
   "cell_type": "markdown",
   "metadata": {},
   "source": [
    "##### Wnioski\n",
    "Atrybut posiada 3 unikatowe wartości. Usunięte zostaną obiekty z atrybutem równym '-' jako, że są to prawdopodobnie nieuzupełnione dane lub dane dotyczące aut elektrycznych, które postanowiliśmy usunąć ze względu na zbyt małą liczbę obiektów. Pozostałe wartości zostaną zakodowane binarnie: 'Manual' = 0 i 'Automatic' = 1"
   ]
  },
  {
   "cell_type": "markdown",
   "metadata": {},
   "source": [
    "#### Engine"
   ]
  },
  {
   "cell_type": "code",
   "execution_count": 13,
   "metadata": {},
   "outputs": [
    {
     "name": "stdout",
     "output_type": "stream",
     "text": [
      "liczba unikalnych wartości = 91\n",
      "najpopularniejsze wartości:\n",
      " 4 cyl, 2 L      3843\n",
      "4 cyl, 2.5 L    1604\n",
      "4 cyl, 2.4 L     812\n",
      "4 cyl, 1.8 L     702\n",
      "4 cyl, 1.5 L     683\n",
      "6 cyl, 3 L       680\n",
      "4 cyl, 2.8 L     581\n",
      "4 cyl, 1.6 L     554\n",
      "4 cyl, 3 L       520\n",
      "4 cyl, 2.2 L     507\n",
      "4 cyl, 1.4 L     498\n",
      "6 cyl, 3.6 L     368\n",
      "5 cyl, 3.2 L     357\n",
      "6 cyl, 3.5 L     354\n",
      "4 cyl, 1.2 L     253\n",
      "4 cyl, 2.3 L     203\n",
      "6 cyl, 4 L       172\n",
      "3 cyl, 1 L       153\n",
      "4 cyl, 1.3 L     147\n",
      "8 cyl, 4.5 L     142\n",
      "6 cyl, 3.3 L     115\n",
      "4 cyl, 2.7 L     103\n",
      "0 L               90\n",
      "6 cyl, 2.7 L      84\n",
      "8 cyl, 6 L        79\n",
      "4 cyl, 2.1 L      78\n",
      "8 cyl, 5 L        73\n",
      "3 cyl, 1.5 L      73\n",
      "4 cyl, 3.2 L      71\n",
      "8 cyl, 6.2 L      68\n",
      "6 cyl, 3.7 L      52\n",
      "8 cyl, 5.7 L      49\n",
      "6 cyl, 3.8 L      46\n",
      "8 cyl, 4 L        45\n",
      "3 cyl, 1.3 L      40\n",
      "3 cyl, 1.2 L      34\n",
      "6 cyl, 3.2 L      28\n",
      "6 cyl, 4.2 L      25\n",
      "6 cyl, 2.5 L      24\n",
      "4 cyl, 1.9 L      22\n",
      "5 cyl, 2.5 L      21\n",
      "8 cyl, 4.4 L      21\n",
      "8 cyl, 4.7 L      19\n",
      "5 cyl, 2.4 L      17\n",
      "8 cyl, 6.4 L      16\n",
      "8 cyl, 5.5 L      14\n",
      "6 cyl, 2.9 L      12\n",
      "8 cyl, 5.6 L      12\n",
      "8 cyl, 5.4 L      12\n",
      "4 cyl, 1.7 L      12\n",
      "Name: Engine, dtype: int64\n"
     ]
    }
   ],
   "source": [
    "print(f'liczba unikalnych wartości = {len(original_data.loc[:, \"Engine\"].unique())}')\n",
    "print(f'najpopularniejsze wartości:\\n {original_data.loc[:, \"Engine\"].value_counts()[:50]}')"
   ]
  },
  {
   "cell_type": "markdown",
   "metadata": {},
   "source": [
    "##### Wnioski\n",
    "Atrybut 'Engine' zostanie rozdzielony na dwa atrybuty ilościowe: 'Cylinders' oraz 'Displacement'. Następnie z obu atrybutów zostaną usunięte niepożądane wartosci (np. dla 0L jako, że są to najprawdopodobniej auta elektryczne), potem usuniemy skrajne tj. większe niż średnia+3\\*odchylenie i mniejsze niż średnia-3\\*odchylenie."
   ]
  },
  {
   "cell_type": "markdown",
   "metadata": {},
   "source": [
    "#### Drive Type"
   ]
  },
  {
   "cell_type": "code",
   "execution_count": 14,
   "metadata": {},
   "outputs": [
    {
     "name": "stdout",
     "output_type": "stream",
     "text": [
      "liczba unikalnych wartości = 5\n",
      "najpopularniejsze wartości:\n",
      " Front    6551\n",
      "4WD      3089\n",
      "AWD      2960\n",
      "Rear     1984\n",
      "Other       2\n",
      "Name: DriveType, dtype: int64\n"
     ]
    }
   ],
   "source": [
    "print(f'liczba unikalnych wartości = {len(original_data.loc[:, \"DriveType\"].unique())}')\n",
    "print(f'najpopularniejsze wartości:\\n {original_data.loc[:, \"DriveType\"].value_counts()[:50]}')"
   ]
  },
  {
   "cell_type": "markdown",
   "metadata": {},
   "source": [
    "##### Wnioski\n",
    "Atrybut posiadający 5 unikalnych wartości. Objekty z atrybutem o wartości 'Other' zostaną usnięte z powodu zbyt małej liczby występowania. Następnie atrybut zakodujemy za pomocą metody 'one hot encoding', co możemy zrobić z powodu małej liczby unikalnych wartości. Należy zauważyć, że '4WD' to nie to samo co 'AWD'. \n",
    "<br>\n",
    "4WD – to napęd 4x4, w którym standardowo napędzana jest jedna oś (najczęściej tylna); kierowca sam musi dołączyć napęd drugiej przyciskiem lub dźwignią,\n",
    "<br>\n",
    "AWD – jest napędem na wszystkie koła; może to być napęd stały lub dołączany automatycznie (w zwykłych warunkach drogowych napędzane są dwa koła, a w momencie utraty przyczepności napęd trafia też do kół drugiej osi).\n",
    "<br>\n",
    "Na podstawie informacji ze strony [https://www.jaguar.pl/naped/naped-awd-jak-dziala-uf24](https://www.jaguar.pl/naped/naped-awd-jak-dziala-uf24g)"
   ]
  },
  {
   "cell_type": "markdown",
   "metadata": {},
   "source": [
    "#### Fuel Type"
   ]
  },
  {
   "cell_type": "code",
   "execution_count": 15,
   "metadata": {},
   "outputs": [
    {
     "name": "stdout",
     "output_type": "stream",
     "text": [
      "liczba unikalnych wartości = 8\n",
      "najpopularniejsze wartości:\n",
      " Unleaded    6267\n",
      "Diesel      4354\n",
      "Premium     3075\n",
      "Hybrid       615\n",
      "-            167\n",
      "Electric      90\n",
      "LPG           14\n",
      "Leaded         4\n",
      "Name: FuelType, dtype: int64\n"
     ]
    }
   ],
   "source": [
    "print(f'liczba unikalnych wartości = {len(original_data.loc[:, \"FuelType\"].unique())}')\n",
    "print(f'najpopularniejsze wartości:\\n {original_data.loc[:, \"FuelType\"].value_counts()[:50]}')"
   ]
  },
  {
   "cell_type": "markdown",
   "metadata": {},
   "source": [
    "##### Wnioski\n",
    "Atrybut posiadający 8 unikalnych wartości. Obiekty z atrybutem o wartości '-', 'LPG', 'Leaded' i 'Electric' zostaną usunięte z powodu zbyt małej liczby występowania. Następnie atrybut zostanie zakodowany metodą one-hot-encoding, co możemy zrobić dzięki małej liczbie unikalnych wartości."
   ]
  },
  {
   "cell_type": "markdown",
   "metadata": {},
   "source": [
    "#### Fuel Consumption"
   ]
  },
  {
   "cell_type": "code",
   "execution_count": 16,
   "metadata": {},
   "outputs": [
    {
     "name": "stdout",
     "output_type": "stream",
     "text": [
      "liczba unikalnych wartości = 152\n",
      "najpopularniejsze wartości:\n",
      " 7.4 L / 100 km    703\n",
      "7.9 L / 100 km    506\n",
      "7.3 L / 100 km    468\n",
      "8.1 L / 100 km    436\n",
      "7.5 L / 100 km    400\n",
      "7.6 L / 100 km    398\n",
      "7.2 L / 100 km    396\n",
      "8.5 L / 100 km    353\n",
      "8 L / 100 km      352\n",
      "6.9 L / 100 km    337\n",
      "6 L / 100 km      299\n",
      "8.3 L / 100 km    295\n",
      "6.6 L / 100 km    285\n",
      "7 L / 100 km      260\n",
      "8.2 L / 100 km    258\n",
      "6.4 L / 100 km    257\n",
      "8.8 L / 100 km    256\n",
      "9 L / 100 km      255\n",
      "8.9 L / 100 km    251\n",
      "6.7 L / 100 km    251\n",
      "Name: FuelConsumption, dtype: int64\n"
     ]
    }
   ],
   "source": [
    "print(f'liczba unikalnych wartości = {len(original_data.loc[:, \"FuelConsumption\"].unique())}')\n",
    "print(f'najpopularniejsze wartości:\\n {original_data.loc[:, \"FuelConsumption\"].value_counts()[:20]}')"
   ]
  },
  {
   "cell_type": "markdown",
   "metadata": {},
   "source": [
    "##### Wnioski\n",
    "Atrybut zostanie zamieniony na wartość numeryczną (liczba przed L). Usunięte zostaną wartości 0.0 (prawdopodbnie auta elektryczne)oraz wartości ekstremalne."
   ]
  },
  {
   "cell_type": "markdown",
   "metadata": {},
   "source": [
    "#### Kilometres"
   ]
  },
  {
   "cell_type": "code",
   "execution_count": 17,
   "metadata": {},
   "outputs": [
    {
     "data": {
      "text/plain": [
       "count     14481.000000\n",
       "mean      99921.339203\n",
       "std       78175.956338\n",
       "min           1.000000\n",
       "25%       40868.000000\n",
       "50%       84910.000000\n",
       "75%      146495.000000\n",
       "max      526162.000000\n",
       "Name: Kilometres, dtype: float64"
      ]
     },
     "execution_count": 17,
     "metadata": {},
     "output_type": "execute_result"
    }
   ],
   "source": [
    "original_data[original_data['Kilometres'] != '-'].loc[:, 'Kilometres'].astype(int).describe()"
   ]
  },
  {
   "cell_type": "markdown",
   "metadata": {},
   "source": [
    "##### Wnioski\n",
    "Z atrybutu 'Kilometres' muszą zostać usunięte wartości '-' i być zmieniony na float/int. Następnie usuniemy wartości ekstremalne."
   ]
  },
  {
   "cell_type": "markdown",
   "metadata": {},
   "source": [
    "#### Colour Ext/Int"
   ]
  },
  {
   "cell_type": "code",
   "execution_count": 18,
   "metadata": {},
   "outputs": [
    {
     "name": "stdout",
     "output_type": "stream",
     "text": [
      "liczba unikalnych wartości = 714\n",
      "najpopularniejsze wartości:\n",
      " White / -                2503\n",
      "White / Black            1550\n",
      "Silver / -                990\n",
      "Grey / -                  843\n",
      "Black / -                 780\n",
      "Grey / Black              735\n",
      "Blue / -                  638\n",
      "Silver / Black            622\n",
      "White / Grey              592\n",
      "Black / Black             548\n",
      "Red / -                   467\n",
      "Blue / Black              446\n",
      "Red / Black               328\n",
      "- / -                     323\n",
      "Silver / Grey             186\n",
      "Grey / Grey               169\n",
      "Blue / Grey               112\n",
      "White / Cloth             104\n",
      "Red / Grey                 92\n",
      "White / Black Leather      84\n",
      "Name: ColourExtInt, dtype: int64\n",
      "udział 10 najpopularniejszych kolorów: 98.10353304769264\n"
     ]
    }
   ],
   "source": [
    "print(f'liczba unikalnych wartości = {len(original_data.loc[:, \"ColourExtInt\"].unique())}')\n",
    "print(f'najpopularniejsze wartości:\\n {original_data.loc[:, \"ColourExtInt\"].value_counts()[:20]}')\n",
    "\n",
    "column = pd.DataFrame()\n",
    "column['ColourExterior'] = original_data['ColourExtInt'].str.extract(r'^(.+)/')\n",
    "column = column[column['ColourExterior'] != '- ']\n",
    "print(f'udział 10 najpopularniejszych kolorów: {100 * column.loc[:,\"ColourExterior\"].value_counts().head(10).sum() / column.loc[:,\"ColourExterior\"].value_counts().sum() }')"
   ]
  },
  {
   "cell_type": "markdown",
   "metadata": {},
   "source": [
    "##### Wnioski\n",
    "Atrybut zostanie podzielony na 'ColourExterior' i 'ColourInterior'. Atrybut 'ColourInterior' zostanie usunięty z powodu zbyt dużej liczby brakujących danych, a z 'ColourExterior' weźmiemy 10 najpopularniejszych wartości jako, że stanowią 98,1% wszystkich samochodów. Następnie zakodujemy wartości 'ColourExterior' metodą 'target encoding' jako, że nie tworzy ona dużej liczby rzadkich kolumn jak 'one-hot-encoding', ale również nie wprowadza fałszywego uporządkowania jak 'label encoding'. Problemem może być 'overfitting', który jest mitygowany poprzez średnią ważoną średniej wartości danej klasy i średniej dla wszystkich klas. Nie jesteśmy pewni co do przydatności tego atrybutu, co zostanie zbadane."
   ]
  },
  {
   "cell_type": "markdown",
   "metadata": {},
   "source": [
    "#### Location"
   ]
  },
  {
   "cell_type": "code",
   "execution_count": 19,
   "metadata": {},
   "outputs": [
    {
     "name": "stdout",
     "output_type": "stream",
     "text": [
      "liczba unikalnych wartości = 594\n",
      "najpopularniejsze wartości:\n",
      " Minchinbury, NSW         503\n",
      "Liverpool, NSW           251\n",
      "Blacktown, NSW           236\n",
      "Hoppers Crossing, VIC    219\n",
      "Ringwood, VIC            208\n",
      "Bentley, WA              205\n",
      "Cardiff, NSW             194\n",
      "Berwick, VIC             184\n",
      "Wangara, WA              183\n",
      "Alexandria, NSW          163\n",
      "Osborne Park, WA         157\n",
      "Phillip, ACT             156\n",
      "Kedron, QLD              153\n",
      "Artarmon, NSW            141\n",
      "Victoria Park, WA        138\n",
      "Southport, QLD           131\n",
      "Brookvale, NSW           128\n",
      "Granville, NSW           126\n",
      "Fyshwick, ACT            120\n",
      "Five Dock, NSW           119\n",
      "Name: Location, dtype: int64\n"
     ]
    }
   ],
   "source": [
    "print(f'liczba unikalnych wartości = {len(original_data.loc[:, \"Location\"].unique())}')\n",
    "print(f'najpopularniejsze wartości:\\n {original_data.loc[:, \"Location\"].value_counts()[:20]}')"
   ]
  },
  {
   "cell_type": "markdown",
   "metadata": {},
   "source": [
    "##### Wnioski\n",
    "'Location' jest atrybutem kategorycznym nominalnym. Zakodujemy jego wartości metodą 'target encoding' jako, że nie tworzy ona dużej liczby rzadkich kolumn jak 'one-hot-encoding', ale również nie wprowadza fałszywego uporządkowania jak 'label encoding'. Problemem może być 'overfitting', który jest mitygowany poprzez średnią ważoną średniej wartości danej klasy i średniej dla wszystkich klas. Nie jesteśmy pewni co do przydatności tego atrybutu, co zostanie zbadane."
   ]
  },
  {
   "cell_type": "markdown",
   "metadata": {},
   "source": [
    "#### Cylinders in Engine"
   ]
  },
  {
   "cell_type": "code",
   "execution_count": 20,
   "metadata": {},
   "outputs": [
    {
     "name": "stdout",
     "output_type": "stream",
     "text": [
      "liczba unikalnych wartości = 9\n",
      "najpopularniejsze wartości:\n",
      " 4 cyl     11203\n",
      "6 cyl      1982\n",
      "8 cyl       585\n",
      "5 cyl       399\n",
      "3 cyl       309\n",
      "0 L          90\n",
      "12 cyl       11\n",
      "2 cyl         4\n",
      "10 cyl        3\n",
      "Name: CylindersinEngine, dtype: int64\n"
     ]
    }
   ],
   "source": [
    "print(f'liczba unikalnych wartości = {len(original_data.loc[:, \"CylindersinEngine\"].unique())}')\n",
    "print(f'najpopularniejsze wartości:\\n {original_data.loc[:, \"CylindersinEngine\"].value_counts()[:20]}')"
   ]
  },
  {
   "cell_type": "markdown",
   "metadata": {},
   "source": [
    "##### Wnioski\n",
    "Zbędny atrybut, mamy te dane wcześniej zapisane."
   ]
  },
  {
   "cell_type": "markdown",
   "metadata": {},
   "source": [
    "#### Body Type"
   ]
  },
  {
   "cell_type": "code",
   "execution_count": 21,
   "metadata": {},
   "outputs": [
    {
     "name": "stdout",
     "output_type": "stream",
     "text": [
      "liczba unikalnych wartości = 10\n",
      "najpopularniejsze wartości:\n",
      " SUV             6670\n",
      "Hatchback       2450\n",
      "Ute / Tray      2207\n",
      "Sedan           1944\n",
      "Wagon            606\n",
      "Commercial       321\n",
      "Coupe            258\n",
      "Convertible      101\n",
      "People Mover      15\n",
      "Other             14\n",
      "Name: BodyType, dtype: int64\n"
     ]
    }
   ],
   "source": [
    "print(f'liczba unikalnych wartości = {len(original_data.loc[:, \"BodyType\"].unique())}')\n",
    "print(f'najpopularniejsze wartości:\\n {original_data.loc[:, \"BodyType\"].value_counts()[:20]}')"
   ]
  },
  {
   "cell_type": "markdown",
   "metadata": {},
   "source": [
    "##### Wnioski\n",
    "Atrybut o 10 unikalnych wartościach. Wartości 'Other' i 'People Mover' zostaną usunięte z powodu zbyt małej liczby występowania. Następnie zakodujemy jego wartości metodą 'target encoding' jako, że nie tworzy ona dużej liczby rzadkich kolumn jak 'one-hot-encoding', ale również nie wprowadza fałszywego uporządkowania jak 'label encoding'. Problemem może być 'overfitting', który jest mitygowany poprzez średnią ważoną średniej wartości danej klasy i średniej dla wszystkich klas. "
   ]
  },
  {
   "cell_type": "markdown",
   "metadata": {},
   "source": [
    "#### Doors"
   ]
  },
  {
   "cell_type": "code",
   "execution_count": 22,
   "metadata": {},
   "outputs": [
    {
     "name": "stdout",
     "output_type": "stream",
     "text": [
      "liczba unikalnych wartości = 4\n",
      "najpopularniejsze wartości:\n",
      "  4 Doors    10948\n",
      " 5 Doors     2477\n",
      " 2 Doors      971\n",
      " 3 Doors      190\n",
      "Name: Doors, dtype: int64\n"
     ]
    }
   ],
   "source": [
    "print(f'liczba unikalnych wartości = {len(original_data.loc[:, \"Doors\"].unique())}')\n",
    "print(f'najpopularniejsze wartości:\\n {original_data.loc[:, \"Doors\"].value_counts()[:20]}')"
   ]
  },
  {
   "cell_type": "markdown",
   "metadata": {},
   "source": [
    "##### Wnioski\n",
    "Atrybut zostanie zamieniony na wartość numeryczną."
   ]
  },
  {
   "cell_type": "markdown",
   "metadata": {},
   "source": [
    "#### Seats"
   ]
  },
  {
   "cell_type": "code",
   "execution_count": 23,
   "metadata": {},
   "outputs": [
    {
     "name": "stdout",
     "output_type": "stream",
     "text": [
      "liczba unikalnych wartości = 12\n",
      "najpopularniejsze wartości:\n",
      "  5 Seats     11088\n",
      " 7 Seats      1767\n",
      " 4 Seats       642\n",
      " 2 Seats       538\n",
      " 8 Seats       267\n",
      " 3 Seats       241\n",
      " 6 Seats        22\n",
      " 14 Seats       11\n",
      " 9 Seats         3\n",
      " 11 Seats        3\n",
      " 12 Seats        3\n",
      " 22 Seats        1\n",
      "Name: Seats, dtype: int64\n"
     ]
    }
   ],
   "source": [
    "print(f'liczba unikalnych wartości = {len(original_data.loc[:, \"Seats\"].unique())}')\n",
    "print(f'najpopularniejsze wartości:\\n {original_data.loc[:, \"Seats\"].value_counts()[:20]}')"
   ]
  },
  {
   "cell_type": "markdown",
   "metadata": {},
   "source": [
    "##### Wnioski\n",
    "Atrybut zostanie zamieniony na wartość numeryczną i usunięte zostaną wartości ekstremalne."
   ]
  },
  {
   "cell_type": "markdown",
   "metadata": {},
   "source": [
    "#### Price"
   ]
  },
  {
   "cell_type": "code",
   "execution_count": 24,
   "metadata": {},
   "outputs": [
    {
     "data": {
      "text/plain": [
       "count     14551.000000\n",
       "mean      34980.246306\n",
       "std       29031.113506\n",
       "min          88.000000\n",
       "25%       18990.000000\n",
       "50%       28990.000000\n",
       "75%       42755.000000\n",
       "max      649880.000000\n",
       "Name: Price, dtype: float64"
      ]
     },
     "execution_count": 24,
     "metadata": {},
     "output_type": "execute_result"
    }
   ],
   "source": [
    "original_data[original_data['Price'] != 'POA'].loc[:, 'Price'].astype(int).describe()"
   ]
  },
  {
   "cell_type": "markdown",
   "metadata": {},
   "source": [
    "##### Wnioski\n",
    "Jest to atrybut decyzyjny. Zostaną usuniętę wartości 'POA'. Atrybut zostanie zamieniony na klasy według kodu:\n",
    "<br>\n",
    "thresholds = [5000 * x for x in range(1, 15)]\n",
    "<br>\n",
    "def helper_Price(x):<br>\n",
    "    > x = int(x)<br>\n",
    "    > for ix, threshold in enumerate(thresholds):<br>\n",
    "        > > if x < threshold:<br>\n",
    "            > > > return ix<br>\n",
    "    > return 14"
   ]
  },
  {
   "cell_type": "markdown",
   "metadata": {},
   "source": [
    "### Wyczyszczenie danych"
   ]
  },
  {
   "cell_type": "code",
   "execution_count": 25,
   "metadata": {},
   "outputs": [],
   "source": [
    "def one_hot_encode_column(df, column_name, prefix=None):\n",
    "    column_data = df[column_name]\n",
    "    encoded_data = pd.get_dummies(column_data, columns=[column_name], prefix=prefix)\n",
    "    df = pd.concat([df, encoded_data], axis=1)\n",
    "    df = df.drop(columns = column_name)\n",
    "    return df"
   ]
  },
  {
   "cell_type": "code",
   "execution_count": 26,
   "metadata": {},
   "outputs": [],
   "source": [
    "def remove_extreme_values(df, column_name):\n",
    "    df = df[df[column_name] > df[column_name].mean() - 3 * df[column_name].std()]\n",
    "    df = df[df[column_name] < df[column_name].mean() + 3 * df[column_name].std()]\n",
    "    return df"
   ]
  },
  {
   "cell_type": "code",
   "execution_count": 27,
   "metadata": {},
   "outputs": [],
   "source": [
    "def target_encode_column(df, column):\n",
    "    df = df.copy()\n",
    "    m = len(df[column].unique())\n",
    "    means = df.groupby(column)['Price'].mean()\n",
    "    counts = df.groupby(column)['Price'].count()\n",
    "    overall_mean = df[\"Price\"].mean()\n",
    "\n",
    "    df[column] = (df[column].map(means) * df[column].map(counts) + overall_mean * m) / (df[column].map(counts) + m)\n",
    "    return df"
   ]
  },
  {
   "cell_type": "code",
   "execution_count": 28,
   "metadata": {},
   "outputs": [],
   "source": [
    "def clean_Brand(df):\n",
    "    df = df[~df['Brand'].isin(df.loc[:,'Brand'].value_counts().index[20:])]\n",
    "    return target_encode_column(df, 'Brand')"
   ]
  },
  {
   "cell_type": "code",
   "execution_count": 29,
   "metadata": {},
   "outputs": [],
   "source": [
    "def merge_Brand_Model(df):\n",
    "    df = df[~df['Brand'].isin(df.loc[:,'Brand'].value_counts().index[20:])]\n",
    "    df.loc[:,'Brand_Model'] = df.loc[:,'Brand'] + \"_\" + df.loc[:,'Model']\n",
    "    df = df.drop(columns=['Brand', 'Model'])\n",
    "    return target_encode_column(df, 'Brand_Model')"
   ]
  },
  {
   "cell_type": "code",
   "execution_count": 30,
   "metadata": {},
   "outputs": [],
   "source": [
    "def clean_Year(df):\n",
    "    df['Year'] = df['Year'].astype(int)\n",
    "    return remove_extreme_values(df, 'Year')"
   ]
  },
  {
   "cell_type": "code",
   "execution_count": 31,
   "metadata": {},
   "outputs": [],
   "source": [
    "def helper_UsedOrNew(x):\n",
    "    if x == 'USED':\n",
    "        return 1\n",
    "    elif x == 'DEMO':\n",
    "        return 2\n",
    "    elif x == 'NEW':\n",
    "        return 3\n",
    "    else:\n",
    "        raise Exception(\"Unknown state\")\n",
    "        \n",
    "def clean_UsedOrNew(df):\n",
    "    df['UsedOrNew'] = df['UsedOrNew'].apply(lambda x: helper_UsedOrNew(x))\n",
    "    return df"
   ]
  },
  {
   "cell_type": "code",
   "execution_count": 32,
   "metadata": {},
   "outputs": [],
   "source": [
    "def clean_Transmission(df):\n",
    "    df = df.copy()\n",
    "    df = df[df['Transmission'] != '-']\n",
    "    df['Transmission'].replace({'Manual': 0, 'Automatic': 1}, inplace=True)\n",
    "    return df"
   ]
  },
  {
   "cell_type": "code",
   "execution_count": 33,
   "metadata": {},
   "outputs": [],
   "source": [
    "def clean_Engine(df):\n",
    "    df['Cylinders'] = df['Engine'].str.extract(r'(\\b\\d+)').astype(int)\n",
    "    df['Displacement'] = df['Engine'].str.extract(r'\\b\\d+\\b.*?(\\d+\\.\\d+|\\d+)\\b').astype(float)\n",
    "    df = df.dropna(how=\"any\")\n",
    "    df = df.drop(columns='Engine')\n",
    "    df = remove_extreme_values(df, 'Cylinders')\n",
    "    df = remove_extreme_values(df, 'Displacement')\n",
    "    return df"
   ]
  },
  {
   "cell_type": "code",
   "execution_count": 34,
   "metadata": {},
   "outputs": [],
   "source": [
    "def clean_DriveType(df):\n",
    "    df = df.copy()\n",
    "    df = df[df['DriveType'] != 'Other']\n",
    "    return one_hot_encode_column(df, 'DriveType', None)"
   ]
  },
  {
   "cell_type": "code",
   "execution_count": 35,
   "metadata": {},
   "outputs": [],
   "source": [
    "def clean_FuelType(df):\n",
    "    df = df.copy()\n",
    "    df = df[~df['FuelType'].isin(['-', 'LPG', 'Leaded', 'Electric'])]\n",
    "    return one_hot_encode_column(df, 'FuelType', None)"
   ]
  },
  {
   "cell_type": "code",
   "execution_count": 36,
   "metadata": {},
   "outputs": [],
   "source": [
    "def clean_FuelConsumption(df):\n",
    "    df = df.copy()\n",
    "    df['FuelConsumption'] = df['FuelConsumption'].str.extract(r'(\\b\\d+\\.\\d+|\\d+)').astype(float)\n",
    "    df = df[df['FuelConsumption'] != 0.0]\n",
    "    return remove_extreme_values(df, 'FuelConsumption')"
   ]
  },
  {
   "cell_type": "code",
   "execution_count": 37,
   "metadata": {},
   "outputs": [],
   "source": [
    "def clean_Kilometres(df):\n",
    "    df = df.copy()\n",
    "    df = df[df['Kilometres'] != '-']\n",
    "    df['Kilometres'] = df['Kilometres'].astype(int)\n",
    "    return remove_extreme_values(df, 'Kilometres')"
   ]
  },
  {
   "cell_type": "code",
   "execution_count": 38,
   "metadata": {},
   "outputs": [],
   "source": [
    "def clean_ColourExtInt(df):\n",
    "    df['ColourExterior'] = df['ColourExtInt'].str.extract(r'^(.+)/')\n",
    "    df = df[df['ColourExterior'] != '- ']\n",
    "    df = df[~df['ColourExterior'].isin(df.loc[:,'ColourExterior'].value_counts().index[10:])]\n",
    "    df = df.drop(columns='ColourExtInt')\n",
    "    return target_encode_column(df, 'ColourExterior')"
   ]
  },
  {
   "cell_type": "code",
   "execution_count": 39,
   "metadata": {},
   "outputs": [],
   "source": [
    "def clean_Location(df):\n",
    "    return target_encode_column(df, 'Location')"
   ]
  },
  {
   "cell_type": "code",
   "execution_count": 40,
   "metadata": {},
   "outputs": [],
   "source": [
    "def clean_BodyType(df):\n",
    "    df = df.copy()\n",
    "    df = df[~df['BodyType'].isin(['Other', 'People Mover'])]\n",
    "    return target_encode_column(df, 'BodyType')"
   ]
  },
  {
   "cell_type": "code",
   "execution_count": 41,
   "metadata": {},
   "outputs": [],
   "source": [
    "def clean_Doors(df):\n",
    "    df['NumOfDoors'] = df['Doors'].str.extract(r'(\\b\\d+)').astype(int)\n",
    "    df = df.drop(columns='Doors')\n",
    "    return df"
   ]
  },
  {
   "cell_type": "code",
   "execution_count": 42,
   "metadata": {},
   "outputs": [],
   "source": [
    "def clean_Seats(df):\n",
    "    df['NumOfSeats'] = df['Seats'].str.extract(r'(\\b\\d+)').astype(int)\n",
    "    df = df.drop(columns='Seats')\n",
    "    return remove_extreme_values(df, 'NumOfSeats')"
   ]
  },
  {
   "cell_type": "code",
   "execution_count": 43,
   "metadata": {},
   "outputs": [],
   "source": [
    "thresholds = [5000 * x for x in range(1, 15)]\n",
    "\n",
    "def helper_Price(x):\n",
    "    x = int(x)\n",
    "    for ix, threshold in enumerate(thresholds):\n",
    "        if x < threshold:\n",
    "            return ix\n",
    "    return 14\n",
    "\n",
    "def clean_Price(df):\n",
    "    df = df.copy()\n",
    "    df = df[df['Price'] != 'POA']\n",
    "    df['Price'] = df['Price'].apply(lambda x: helper_Price(x))\n",
    "    return df"
   ]
  },
  {
   "cell_type": "code",
   "execution_count": 44,
   "metadata": {},
   "outputs": [],
   "source": [
    "def clean_data_without_Model(df):\n",
    "    cleaned_data = df.drop(columns=['Model', 'Title', 'Car/Suv', 'CylindersinEngine'])\n",
    "    cleaned_data = clean_Price(cleaned_data)\n",
    "    cleaned_data = clean_Brand(cleaned_data)\n",
    "    cleaned_data = clean_Year(cleaned_data)\n",
    "    cleaned_data = clean_UsedOrNew(cleaned_data)\n",
    "    cleaned_data = clean_Transmission(cleaned_data)\n",
    "    cleaned_data = clean_Engine(cleaned_data)\n",
    "    cleaned_data = clean_DriveType(cleaned_data)\n",
    "    cleaned_data = clean_FuelType(cleaned_data)\n",
    "    cleaned_data = clean_FuelConsumption(cleaned_data)\n",
    "    cleaned_data = clean_Kilometres(cleaned_data)\n",
    "    cleaned_data = clean_ColourExtInt(cleaned_data)\n",
    "    cleaned_data = clean_Location(cleaned_data)\n",
    "    cleaned_data = clean_BodyType(cleaned_data)\n",
    "    cleaned_data = clean_Doors(cleaned_data)\n",
    "    cleaned_data = clean_Seats(cleaned_data)\n",
    "    return cleaned_data"
   ]
  },
  {
   "cell_type": "code",
   "execution_count": 45,
   "metadata": {},
   "outputs": [],
   "source": [
    "def clean_data_merge_Brand_Model(df):\n",
    "    cleaned_data = df.drop(columns=['Title', 'Car/Suv', 'CylindersinEngine'])\n",
    "    cleaned_data = clean_Price(cleaned_data)\n",
    "    cleaned_data = merge_Brand_Model(cleaned_data)\n",
    "    cleaned_data = clean_Year(cleaned_data)\n",
    "    cleaned_data = clean_UsedOrNew(cleaned_data)\n",
    "    cleaned_data = clean_Transmission(cleaned_data)\n",
    "    cleaned_data = clean_Engine(cleaned_data)\n",
    "    cleaned_data = clean_DriveType(cleaned_data)\n",
    "    cleaned_data = clean_FuelType(cleaned_data)\n",
    "    cleaned_data = clean_FuelConsumption(cleaned_data)\n",
    "    cleaned_data = clean_Kilometres(cleaned_data)\n",
    "    cleaned_data = clean_ColourExtInt(cleaned_data)\n",
    "    cleaned_data = clean_Location(cleaned_data)\n",
    "    cleaned_data = clean_BodyType(cleaned_data)\n",
    "    cleaned_data = clean_Doors(cleaned_data)\n",
    "    cleaned_data = clean_Seats(cleaned_data)\n",
    "    return cleaned_data"
   ]
  },
  {
   "cell_type": "code",
   "execution_count": 46,
   "metadata": {},
   "outputs": [
    {
     "name": "stderr",
     "output_type": "stream",
     "text": [
      "C:\\Users\\janbb\\AppData\\Local\\Temp\\ipykernel_14464\\2687718097.py:3: SettingWithCopyWarning: \n",
      "A value is trying to be set on a copy of a slice from a DataFrame.\n",
      "Try using .loc[row_indexer,col_indexer] = value instead\n",
      "\n",
      "See the caveats in the documentation: https://pandas.pydata.org/pandas-docs/stable/user_guide/indexing.html#returning-a-view-versus-a-copy\n",
      "  df.loc[:,'Brand_Model'] = df.loc[:,'Brand'] + \"_\" + df.loc[:,'Model']\n"
     ]
    }
   ],
   "source": [
    "cleaned_data_wo_M = clean_data_without_Model(original_data)\n",
    "cleaned_data_BM = clean_data_merge_Brand_Model(original_data)"
   ]
  },
  {
   "cell_type": "markdown",
   "metadata": {},
   "source": [
    "### Analiza danych"
   ]
  },
  {
   "cell_type": "code",
   "execution_count": 49,
   "metadata": {},
   "outputs": [],
   "source": [
    "numerical_columns = ['Year', 'Cylinders', 'Displacement', 'FuelConsumption', 'Kilometres', 'NumOfDoors', 'NumOfSeats']\n",
    "drive_types = ['AWD', '4WD', 'Front', 'Rear']\n",
    "fuel_types = ['Diesel', 'Hybrid', 'Premium', 'Unleaded']"
   ]
  },
  {
   "cell_type": "code",
   "execution_count": 50,
   "metadata": {},
   "outputs": [],
   "source": [
    "def show_numerical_column(cleaned_data, atr): \n",
    "    for cl in [0, 4, 7, 9, 14]:\n",
    "        sns.histplot(cleaned_data.loc[cleaned_data.Price == cl, atr], label=cl)\n",
    "    plt.legend()"
   ]
  },
  {
   "cell_type": "code",
   "execution_count": 51,
   "metadata": {},
   "outputs": [],
   "source": [
    "def show_one_hot_columns(cleaned_data, atrs):\n",
    "    ax = plt.gca()\n",
    "    for i, atr in enumerate(atrs):\n",
    "        data = cleaned_data[cleaned_data.loc[:, atr] == 1][\"Price\"].value_counts().sort_index()\n",
    "        ax.bar(data.index + i * 0.2, data.values, width=0.2, label=atr)\n",
    "    plt.xlabel(\"Price\")\n",
    "    plt.ylabel(\"Count\")\n",
    "    ax.set_xticks(cleaned_data[\"Price\"].unique() + 0.3)\n",
    "    ax.set_xticklabels(cleaned_data[\"Price\"].unique())\n",
    "    plt.legend()\n",
    "    plt.show()"
   ]
  },
  {
   "cell_type": "code",
   "execution_count": 52,
   "metadata": {},
   "outputs": [],
   "source": [
    "def show_label_columns(cleaned_data, column):\n",
    "    ax = plt.gca()\n",
    "    for i, atr in enumerate(cleaned_data.loc[:, column].unique()):\n",
    "        data = cleaned_data[cleaned_data.loc[:, column] == atr][\"Price\"].value_counts().sort_index()\n",
    "        ax.bar(data.index + i * 0.2, data.values, width=0.2, label=atr)\n",
    "    plt.xlabel(\"Price\")\n",
    "    plt.ylabel(\"Count\")\n",
    "    ax.set_xticks(cleaned_data[\"Price\"].unique() + 0.3)\n",
    "    ax.set_xticklabels(cleaned_data[\"Price\"].unique())\n",
    "    plt.legend()\n",
    "    plt.show()"
   ]
  },
  {
   "cell_type": "code",
   "execution_count": 53,
   "metadata": {},
   "outputs": [
    {
     "data": {
      "text/plain": [
       "<Axes: xlabel='Price', ylabel='Count'>"
      ]
     },
     "execution_count": 53,
     "metadata": {},
     "output_type": "execute_result"
    },
    {
     "data": {
      "image/png": "[encoded data removed]",
      "text/plain": [
       "<Figure size 640x480 with 1 Axes>"
      ]
     },
     "metadata": {},
     "output_type": "display_data"
    }
   ],
   "source": [
    "sns.histplot(cleaned_data_wo_M.Price)"
   ]
  },
  {
   "cell_type": "markdown",
   "metadata": {},
   "source": [
    "<b>Wnioski</b>\n",
    "<br><br>\n",
    "Analizując histogram ilości aut w zależności od kategorii cenowej możemy zauważyć, że większość pojazdów znajduje się w średniej kategorii cenowej. Zdecydowanie większa częstość pojazdów w kategorii 14 względem 13 czy 12 wynika z większego zakresu cenowego 70 tys i więcej. Najwięcej aut występuje w kategorii 25 tys do 30 tys. Natomiast najmniej w kategorii do 5 tys."
   ]
  },
  {
   "cell_type": "code",
   "execution_count": 54,
   "metadata": {},
   "outputs": [
    {
     "data": {
      "image/png": "[encoded data removed]",
      "text/plain": [
       "<Figure size 1600x3200 with 7 Axes>"
      ]
     },
     "metadata": {},
     "output_type": "display_data"
    }
   ],
   "source": [
    "plt.figure(figsize=(20,40), dpi= 80)\n",
    "for idx, column in enumerate(numerical_columns):\n",
    "    plt.subplot(4,2,idx+1)\n",
    "    show_numerical_column(cleaned_data_wo_M, column)"
   ]
  },
  {
   "cell_type": "markdown",
   "metadata": {},
   "source": [
    "<b>Wnioski</b>\n",
    "<br><br>\n",
    "Analizując histogram roku produkcji w zależności od ilości pojazdów z zaznaczonymi kolorami wybranymi przedziałami cenowymi w celu lepszej widoczności możemy zauważyć, że większość aut została wyprodukowana w 2015 roku lub później. Auta z mniejszym rocznikiem\n",
    "to w zdecydowanej większości auta z niskiej kategorii cenowej. Większość aut z wyższej kategorii cenowej to nowe auta.\n",
    "<br><br>\n",
    "Analizując histogram ilości cylindrów przygotowany w ten sam sposób jak poprzedni możemy zauważyć, że 4 cylindry to liczba przeważająca dla aut z prawie każdej klasy gdzie odstępstwem jest klasa 14 gdzie rozkład jest w miarę równy. Możemy stwierdzić, że liczba cylindrów równa 6 jest bardziej standardowa dla aut wyższej klasy. Natomiast liczby 3 i 5 wzkazują nam, że cylindry w takiej liczbie rzadko występują w jakiejkolwiek klasie.\n",
    "<br><br>\n",
    "Analizując wykres pojemności silnika możemy zauważyć, że jest on mocno różnowartościowy. Dla większości kategori aut pojemność 2.0 jest najczęściej występującą. Pojemności mniejsze niż 2.0 są charakterystyczne dla aut średniej i niskiej klasy natomiast, nie występują tam prawie auta wyższej klasy.\n",
    "<br><br>\n",
    "Analizując wykres zużycia paliwa możemy zauważyć, że wykres jest zdecydowanie bardziej zrównoważony, przypomina nieco krzywą gaussa. Spalanie większości aut znajduje się w przedziale od 6 do 10. Możemy stwierdzić że spalanie nie jest mocno związane z klasą cenową pojazdów.\n",
    "<br><br>\n",
    "Analizując wykres ilości drzwi możemy dojść do wniosku, że większość pojazdów ma 4 badź 5 drzwi natomiast inne ilości są zdecydowanie rzadzej występujące. Możemy stwierdzić, że liczba drzwi nie jest mocno związana z kategorią cenową.\n",
    "<br><br>\n",
    "Analizując wykres ilości foteli możemy dojść do podobnych wniosków co w poprzednim przypadku. Większość aut posiada 5 foteli oraz ilość foteli nie jest mocno związana z kategorią cenową.\n",
    "<br><br>\n",
    "Analizując wykres przebiegu możemy stwierdzić, że im wyższa kategoria cenowa auta tym mniejszy przebieg. Zdecydowana większość aut mało używanych to te z wyższej kategorii cenowej."
   ]
  },
  {
   "cell_type": "code",
   "execution_count": 55,
   "metadata": {},
   "outputs": [
    {
     "data": {
      "text/plain": [
       "<Axes: >"
      ]
     },
     "execution_count": 55,
     "metadata": {},
     "output_type": "execute_result"
    },
    {
     "data": {
      "image/png": "[encoded data removed]",
      "text/plain": [
       "<Figure size 1000x1000 with 2 Axes>"
      ]
     },
     "metadata": {},
     "output_type": "display_data"
    }
   ],
   "source": [
    "correlations = cleaned_data_wo_M[numerical_columns].corr()\n",
    "plt.figure(figsize=(10, 10), dpi=100)\n",
    "sns.heatmap(correlations, annot=correlations)"
   ]
  },
  {
   "cell_type": "markdown",
   "metadata": {},
   "source": [
    "<b>Wnioski</b>\n",
    "<br><br>\n",
    "Macierz korelacji pozwala nam stwierdzić parę ważnych faktów, pojemność silnika związana jest z ilością cylindrów jak również ze spalaniem. Co jak najbardziej sensownie odzwierciedla rzeczywistą relację.\n",
    "<br><br>\n",
    "Możemy również zauważyć wysoką korelację (warto zaznaczyć że jest ujemna) rocznika i przebiegu, która pozwala nam zauważyć odwrotną proporcjonalność przebiegu do rocznika co również ma logiczny sens. Im wcześniej wyprodukowano auto tym dłużej mogło ono poruszać się na drogach."
   ]
  },
  {
   "cell_type": "code",
   "execution_count": 56,
   "metadata": {},
   "outputs": [
    {
     "data": {
      "image/png": "[encoded data removed]",
      "text/plain": [
       "<Figure size 800x800 with 1 Axes>"
      ]
     },
     "metadata": {},
     "output_type": "display_data"
    }
   ],
   "source": [
    "plt.figure(figsize=(10,10), dpi= 80)\n",
    "show_one_hot_columns(cleaned_data_wo_M, drive_types)"
   ]
  },
  {
   "cell_type": "markdown",
   "metadata": {},
   "source": [
    "<b>Wnioski</b>\n",
    "<br><br>\n",
    "Na podstawie wykresu ilości pojazdów w danej klasie cenowej w zależności od rodzaju napędu, możemy stwierdzić że auta z napędem na przód całkowicie dominują przedział cenowy od 0 do 6 (czyli od 0 do 35 tys). Auta z napędem na tył może nie dominują tak jak te z napędem na przód natomiast ich występowanie jest również najwyższe dla podobnego przedziału cenowego. Auta z napędem na 4 i na wszystkie koła oscylują w podobnych wartościach i są większą częścią pojazdów w kategoriach od 7 do 14( od 35 tys wzwyż) niż w niższych przedziałach. Rodzaje te zaczynają dominować w kategoriach od 11 do 14 (od 55 tys wzwyż)."
   ]
  },
  {
   "cell_type": "code",
   "execution_count": 57,
   "metadata": {},
   "outputs": [
    {
     "data": {
      "image/png": "[encoded data removed]",
      "text/plain": [
       "<Figure size 800x800 with 1 Axes>"
      ]
     },
     "metadata": {},
     "output_type": "display_data"
    }
   ],
   "source": [
    "plt.figure(figsize=(10,10), dpi= 80)\n",
    "show_one_hot_columns(cleaned_data_wo_M, fuel_types)"
   ]
  },
  {
   "cell_type": "markdown",
   "metadata": {},
   "source": [
    "<b>Wnioski</b>\n",
    "<br><br>\n",
    "Analizując wykres ilości aut w danej kategori cenowej w zależności od rodzaju paliwa moażemy stwierdzić, że auta z niskiej półki cenowej charakteryzują się używaniem paliwa bezołowiowego. Natomiast pojazdy od kategori 6 ( od 30 tys) zaczynają bardzej się rozróżniać względem rodzaju paliwa, Diesel i Premium zaczynają zajmować większą część zbioru. Auta zasilane paliwem hybrydowym prawie nie występują w przedziale od 0 do 4 ( od 0 do 25 tys), co jest charakterystyczne dla pojazdów wyższej klasy. Paliwo typu Diesel występuje szeroko w każdej klasie natomiast dla klas od 8 ( od 40 tys) włącznie stanowi większość."
   ]
  },
  {
   "cell_type": "code",
   "execution_count": 58,
   "metadata": {},
   "outputs": [
    {
     "data": {
      "image/png": "[encoded data removed]",
      "text/plain": [
       "<Figure size 800x800 with 1 Axes>"
      ]
     },
     "metadata": {},
     "output_type": "display_data"
    }
   ],
   "source": [
    "plt.figure(figsize=(10,10), dpi= 80)\n",
    "show_label_columns(cleaned_data_wo_M, 'UsedOrNew')"
   ]
  },
  {
   "cell_type": "markdown",
   "metadata": {},
   "source": [
    "<b>Wnioski</b>\n",
    "<br><br>\n",
    "Auta typu demo, czyli auta udostępnianie przez sprzedawcę w celu umożliwnia np. przetestowania pojazdu przez klienta są tańsze niż nowe pojazdy. Analizując wykres możemy łatwo zauważyć, że całkowicie dominują auta używane. Dla kategorii 0 , 1 i 2 (do 15 tys) nie występują żadne pojazdy typu demo bądź nowe. W kategori od 3 do 9 (od 20 do 50 tys) auta nowe częściej występują niż auta demonstracyjne, dla aut w kategorii od 11 do 14 (od 55 tys) jest odwrotnie z wyjątkiem klasy 12 (od 60 do 65 tys)."
   ]
  },
  {
   "cell_type": "code",
   "execution_count": 59,
   "metadata": {},
   "outputs": [
    {
     "data": {
      "text/plain": [
       "count    11200.000000\n",
       "mean         5.590252\n",
       "std          1.056662\n",
       "min          3.857076\n",
       "25%          4.556463\n",
       "50%          6.264860\n",
       "75%          6.264860\n",
       "max          6.795546\n",
       "Name: BodyType, dtype: float64"
      ]
     },
     "execution_count": 59,
     "metadata": {},
     "output_type": "execute_result"
    }
   ],
   "source": [
    "cleaned_data_BM.loc[:,'BodyType'].describe()"
   ]
  },
  {
   "cell_type": "code",
   "execution_count": 60,
   "metadata": {},
   "outputs": [
    {
     "data": {
      "text/plain": [
       "count    11200.000000\n",
       "mean         5.588876\n",
       "std          0.276993\n",
       "min          4.428503\n",
       "25%          5.544705\n",
       "50%          5.621160\n",
       "75%          5.710147\n",
       "max          6.083955\n",
       "Name: Location, dtype: float64"
      ]
     },
     "execution_count": 60,
     "metadata": {},
     "output_type": "execute_result"
    }
   ],
   "source": [
    "cleaned_data_BM.loc[:,'Location'].describe()"
   ]
  },
  {
   "cell_type": "code",
   "execution_count": 61,
   "metadata": {},
   "outputs": [
    {
     "data": {
      "text/plain": [
       "count    11200.000000\n",
       "mean         5.608124\n",
       "std          0.454989\n",
       "min          3.564974\n",
       "25%          5.364451\n",
       "50%          5.857262\n",
       "75%          5.880599\n",
       "max          6.067107\n",
       "Name: ColourExterior, dtype: float64"
      ]
     },
     "execution_count": 61,
     "metadata": {},
     "output_type": "execute_result"
    }
   ],
   "source": [
    "cleaned_data_BM.loc[:,'ColourExterior'].describe()"
   ]
  },
  {
   "cell_type": "code",
   "execution_count": 62,
   "metadata": {},
   "outputs": [
    {
     "data": {
      "text/plain": [
       "count    11200.000000\n",
       "mean         5.727278\n",
       "std          0.485581\n",
       "min          4.945748\n",
       "25%          5.414166\n",
       "50%          5.675116\n",
       "75%          5.942018\n",
       "max          7.873510\n",
       "Name: Brand_Model, dtype: float64"
      ]
     },
     "execution_count": 62,
     "metadata": {},
     "output_type": "execute_result"
    }
   ],
   "source": [
    "cleaned_data_BM.loc[:,'Brand_Model'].describe()"
   ]
  },
  {
   "cell_type": "code",
   "execution_count": 63,
   "metadata": {},
   "outputs": [
    {
     "data": {
      "text/plain": [
       "count    11200.000000\n",
       "mean         5.712195\n",
       "std          1.294865\n",
       "min          3.640683\n",
       "25%          4.701954\n",
       "50%          5.299241\n",
       "75%          6.786441\n",
       "max          9.635359\n",
       "Name: Brand, dtype: float64"
      ]
     },
     "execution_count": 63,
     "metadata": {},
     "output_type": "execute_result"
    }
   ],
   "source": [
    "cleaned_data_wo_M.loc[:,'Brand'].describe()"
   ]
  },
  {
   "cell_type": "markdown",
   "metadata": {},
   "source": [
    "<b>Wnioski</b>\n",
    "<br><br>\n",
    "Możemy zauważyć, że zakodowane atrybuty 'Brand_Model', 'ColourExterior' i 'Location' mają niewielkie odchylenie stardardowe(< 0.5 ), co może być spowodowane przez dużą liczbę unikalnych wartości. Możemy domyślać się, że nie będą one aż tak przydatne w procesie klasyfikacji."
   ]
  },
  {
   "cell_type": "markdown",
   "metadata": {},
   "source": [
    "### Klasyfikacja"
   ]
  },
  {
   "cell_type": "markdown",
   "metadata": {},
   "source": [
    "#### Porównanie wyników dla danych bez atrybutu 'Model' i z połączonym atrybutem 'Brand' oraz 'Model'"
   ]
  },
  {
   "cell_type": "code",
   "execution_count": 64,
   "metadata": {},
   "outputs": [],
   "source": [
    "def get_splits(df):\n",
    "    df_price = df['Price']\n",
    "    df = df.drop(columns='Price')\n",
    "    return train_test_split(df, df_price, test_size=0.3, random_state=42)"
   ]
  },
  {
   "cell_type": "code",
   "execution_count": 64,
   "metadata": {},
   "outputs": [],
   "source": [
    "datasets = [cleaned_data_wo_M, cleaned_data_BM]\n",
    "n_runs = 100"
   ]
  },
  {
   "cell_type": "code",
   "execution_count": 65,
   "metadata": {},
   "outputs": [
    {
     "name": "stdout",
     "output_type": "stream",
     "text": [
      "cleaned_data_wo_M = 41.96279761904761%\n",
      "cleaned_data_BM = 42.157142857142865%\n"
     ]
    }
   ],
   "source": [
    "results = [0, 0]\n",
    "for ix, dataset in enumerate(datasets):\n",
    "    x_train, x_test, y_train, y_test = get_splits(dataset)\n",
    "    for run in range(n_runs):\n",
    "        model = tree.DecisionTreeClassifier(random_state=run)\n",
    "        model.fit(x_train, y_train)\n",
    "        results[ix] += model.score(x_test, y_test)\n",
    "\n",
    "print( f'cleaned_data_wo_M = {100 * results[0] / n_runs}%')\n",
    "print( f'cleaned_data_BM = {100 * results[1] / n_runs}%')"
   ]
  },
  {
   "cell_type": "code",
   "execution_count": 66,
   "metadata": {},
   "outputs": [
    {
     "name": "stdout",
     "output_type": "stream",
     "text": [
      "cleaned_data_wo_M = 50.412797619047616%\n",
      "cleaned_data_BM = 50.4794642857143%\n"
     ]
    }
   ],
   "source": [
    "results = [0, 0]\n",
    "for ix, dataset in enumerate(datasets):\n",
    "    x_train, x_test, y_train, y_test = get_splits(dataset)\n",
    "    for run in range(n_runs):\n",
    "        model = ensemble.RandomForestClassifier(n_jobs=-1, random_state=run)\n",
    "        model.fit(x_train, y_train)\n",
    "        results[ix] += model.score(x_test, y_test)\n",
    "    \n",
    "print( f'cleaned_data_wo_M = {100 * results[0] / n_runs}%')\n",
    "print( f'cleaned_data_BM = {100 * results[1] / n_runs}%')"
   ]
  },
  {
   "cell_type": "markdown",
   "metadata": {},
   "source": [
    "##### Wnioski\n",
    "Jak widać dla drzew decyzyjnych i lasów losowych dwa zbiory dają podobną trafność wyników. Jednak w obu przypadkach zbiór z połączoną marką i modelem daje odrobinę lepsze wyniki niż zbiór bez modelu. Oznacza to, że model niesie za sobą istotną informację, której nie należy pomijać."
   ]
  },
  {
   "cell_type": "markdown",
   "metadata": {},
   "source": [
    "#### Dobranie hiperparametrów dla drzewa decyzyjnego"
   ]
  },
  {
   "cell_type": "code",
   "execution_count": 83,
   "metadata": {},
   "outputs": [],
   "source": [
    "# analizowane warianty hiperparametrów\n",
    "criterions = ['gini', 'entropy']\n",
    "splitters = ['best', 'random']\n",
    "min_samples_splits = [2, 4, 8, 16, 32]\n",
    "min_samples_leaves = [1, 2, 4, 8, 16, 32]\n",
    "n_runs = 10"
   ]
  },
  {
   "cell_type": "code",
   "execution_count": 67,
   "metadata": {},
   "outputs": [],
   "source": [
    "# klasa pomocnicza\n",
    "class Result:\n",
    "    def __init__(self, criterion, splitter, min_samples_split, min_samples_leaf, n_estimators=1):\n",
    "        self.criterion = criterion\n",
    "        self.splitter = splitter\n",
    "        self.min_samples_split = min_samples_split\n",
    "        self.min_samples_leaf = min_samples_leaf\n",
    "        self.n_estimators = n_estimators\n",
    "        self.result = 0.0\n",
    "    \n",
    "    def increment_result(self, new_result):\n",
    "        self.result += new_result"
   ]
  },
  {
   "cell_type": "code",
   "execution_count": 85,
   "metadata": {},
   "outputs": [],
   "source": [
    "results_tree = []\n",
    "x_train, x_test, y_train, y_test = get_splits(cleaned_data_BM)\n",
    "for criterion in criterions:\n",
    "    for splitter in splitters:\n",
    "        for min_samples_split in min_samples_splits:\n",
    "            for min_samples_leaf in min_samples_leaves:\n",
    "                result = Result(criterion, splitter, min_samples_split, min_samples_leaf)\n",
    "                for run in range(n_runs):\n",
    "                    model = tree.DecisionTreeClassifier(criterion=criterion, splitter=splitter, min_samples_split=min_samples_split, min_samples_leaf=min_samples_leaf, random_state=run)\n",
    "                    model.fit(x_train, y_train)\n",
    "                    result.increment_result(model.score(x_test, y_test))\n",
    "                results_tree.append(result)\n",
    "                result = None"
   ]
  },
  {
   "cell_type": "code",
   "execution_count": 86,
   "metadata": {},
   "outputs": [],
   "source": [
    "best_criterion = {'gini': 0, 'entropy': 0,}\n",
    "best_splitter = {'best': 0, 'random': 0}\n",
    "best_min_samples_splits = {2: 0, 4: 0, 8: 0, 16: 0, 32: 0}\n",
    "best_min_samples_leaves = {1: 0, 2: 0, 4: 0, 8: 0, 16: 0, 32: 0}\n",
    "\n",
    "for result in results_tree:\n",
    "    best_criterion[result.criterion] += result.result\n",
    "    best_splitter[result.splitter] += result.result\n",
    "    best_min_samples_splits[result.min_samples_split] += result.result\n",
    "    best_min_samples_leaves[result.min_samples_leaf] += result.result"
   ]
  },
  {
   "cell_type": "markdown",
   "metadata": {},
   "source": [
    "##### Wnioski"
   ]
  },
  {
   "cell_type": "code",
   "execution_count": 87,
   "metadata": {},
   "outputs": [
    {
     "name": "stdout",
     "output_type": "stream",
     "text": [
      "avg for gini = 40.78407738095238%\n",
      "avg for entropy = 41.011855158730164%\n"
     ]
    }
   ],
   "source": [
    "for criterion in best_criterion:\n",
    "    print(f'avg for {criterion} = {100*best_criterion[criterion]/(60*10)}%')"
   ]
  },
  {
   "cell_type": "markdown",
   "metadata": {},
   "source": [
    "Jak widzimy kryterium 'gini' daje gorsze wyniki niż 'entropy'. Nie uwzględniamy kryterium 'log_loss' jako, że jest to, to samo kryterium co 'entropy'."
   ]
  },
  {
   "cell_type": "code",
   "execution_count": 88,
   "metadata": {},
   "outputs": [
    {
     "name": "stdout",
     "output_type": "stream",
     "text": [
      "avg for best = 41.59672619047619%\n",
      "avg for random = 40.19920634920635%\n"
     ]
    }
   ],
   "source": [
    "for splitter in best_splitter:\n",
    "    print(f'avg for {splitter} = {100*best_splitter[splitter]/(60*10)}%')"
   ]
  },
  {
   "cell_type": "markdown",
   "metadata": {},
   "source": [
    "Możemy zauważyć, że wybieranie najlepszego 'splittera' jest lepsze od losowania."
   ]
  },
  {
   "cell_type": "code",
   "execution_count": 89,
   "metadata": {},
   "outputs": [
    {
     "name": "stdout",
     "output_type": "stream",
     "text": [
      "avg for 2 = 40.9375%\n",
      "avg for 4 = 40.877852182539684%\n",
      "avg for 8 = 40.9874751984127%\n",
      "avg for 16 = 41.1281001984127%\n",
      "avg for 32 = 40.55890376984127%\n"
     ]
    }
   ],
   "source": [
    "for min_samples_split in best_min_samples_splits:\n",
    "    print(f'avg for {min_samples_split} = {100*best_min_samples_splits[min_samples_split]/(24*10)}%')"
   ]
  },
  {
   "cell_type": "markdown",
   "metadata": {},
   "source": [
    "Możemy zauważyć, że gdy minimalna ilość próbek w węźle drzewa jest mała (2, 4, 8) drzewo uzuskuje wyniki gorsze niż gdy minimalna ilość próbek w węźle drzewa wynosi 16. Najgorszy wynik otrzymujemy dla 32. Jest to prawdopodobnie spowodowane tym, że dla niskich wartości drzewo nie potrafi uogólniać swojej wiedzy, a jedynie zapamiętuje wyniki. Dla zbyt dużej wartości drzewo zbyt uogólnia przez co traci niezbędne informacje."
   ]
  },
  {
   "cell_type": "code",
   "execution_count": 90,
   "metadata": {},
   "outputs": [
    {
     "name": "stdout",
     "output_type": "stream",
     "text": [
      "avg for 1 = 42.04077380952381%\n",
      "avg for 2 = 41.69642857142857%\n",
      "avg for 4 = 41.97261904761905%\n",
      "avg for 8 = 41.51502976190476%\n",
      "avg for 16 = 39.744047619047606%\n",
      "avg for 32 = 38.4188988095238%\n"
     ]
    }
   ],
   "source": [
    "for min_samples_leaf in best_min_samples_leaves:\n",
    "    print(f'avg for {min_samples_leaf} = {100*best_min_samples_leaves[min_samples_leaf]/(20*10)}%')"
   ]
  },
  {
   "cell_type": "markdown",
   "metadata": {},
   "source": [
    "Możemy zauważyć, że w ogólności im mniejsza ilość próbek jaka może zostać w węźle po przeprowadzeniu testu tym lepiej. Nie spodziewaliśmy się takiego wyniku. Zakładaliśmy, że ten hiperparametr będzie miał podobne właściwości co min_samples_split, czyli najlepsza wartość będzie 'gdzieś w środku', co pozwoli drzewu lepiej uogólniać swoją wiedzę."
   ]
  },
  {
   "cell_type": "code",
   "execution_count": 92,
   "metadata": {},
   "outputs": [
    {
     "name": "stdout",
     "output_type": "stream",
     "text": [
      "entropy, best, 16, 4 = 44.47619047619047\n",
      "entropy, best, 16, 2 = 44.333333333333336\n",
      "entropy, best, 16, 1 = 44.330357142857146\n"
     ]
    }
   ],
   "source": [
    "results_tree.sort(key=lambda x: x.result, reverse=True)\n",
    "for i in range(3):\n",
    "    result = results_tree[i]\n",
    "    print(f'{result.criterion}, {result.splitter}, {result.min_samples_split}, {result.min_samples_leaf} = {100 * result.result / n_runs}')"
   ]
  },
  {
   "cell_type": "markdown",
   "metadata": {},
   "source": [
    "Najlepsze wyniki daje kryterium = 'entropy', splitter = 'best', min_samples_spilt = 16 i co ciekawe min_samples_leaf = 4, a nie min_samples_leaf = 1 na co wskazywałaby wcześniejsza analiza. Należy jedenak zauważyć, że wyniki są bardzo zbliżone."
   ]
  },
  {
   "cell_type": "markdown",
   "metadata": {},
   "source": [
    "#### Dobranie hiperparametrów dla lasu losowego"
   ]
  },
  {
   "cell_type": "code",
   "execution_count": 77,
   "metadata": {},
   "outputs": [],
   "source": [
    "criterions = ['gini', 'entropy']\n",
    "min_samples_splits = [2, 4, 8, 16]\n",
    "min_samples_leaves = [1, 2, 4, 8, 16]\n",
    "ns_estimators = [25, 50, 100, 200, 400]\n",
    "n_runs = 10"
   ]
  },
  {
   "cell_type": "code",
   "execution_count": 78,
   "metadata": {},
   "outputs": [],
   "source": [
    "results_forest = []\n",
    "x_train, x_test, y_train, y_test = get_splits(cleaned_data_BM)\n",
    "for criterion in criterions:\n",
    "    for min_samples_split in min_samples_splits:\n",
    "        for min_samples_leaf in min_samples_leaves:\n",
    "            for n_estimators in ns_estimators:\n",
    "                result = Result(criterion=criterion, splitter=None, min_samples_split=min_samples_split, min_samples_leaf=min_samples_leaf, n_estimators=n_estimators)\n",
    "                for run in range(n_runs):\n",
    "                    model = ensemble.RandomForestClassifier(n_estimators=n_estimators, criterion=criterion, min_samples_split=min_samples_split, min_samples_leaf=min_samples_leaf, random_state=run, n_jobs=-1)\n",
    "                    model.fit(x_train, y_train)\n",
    "                    result.increment_result(model.score(x_test, y_test))\n",
    "                results_forest.append(result)\n",
    "                result = None"
   ]
  },
  {
   "cell_type": "code",
   "execution_count": 93,
   "metadata": {},
   "outputs": [],
   "source": [
    "best_criterion = {'gini': 0, 'entropy': 0,}\n",
    "best_n_estimators = {25:0, 50:0, 100:0, 200:0, 400:0}\n",
    "best_min_samples_splits = {2: 0, 4: 0, 8: 0, 16: 0}\n",
    "best_min_samples_leaves = {1: 0, 2: 0, 4: 0, 8: 0, 16: 0}\n",
    "\n",
    "for result in results_forest:\n",
    "    best_criterion[result.criterion] += result.result\n",
    "    best_min_samples_splits[result.min_samples_split] += result.result\n",
    "    best_min_samples_leaves[result.min_samples_leaf] += result.result\n",
    "    best_n_estimators[result.n_estimators] += result.result"
   ]
  },
  {
   "cell_type": "markdown",
   "metadata": {},
   "source": [
    "##### Wnioski"
   ]
  },
  {
   "cell_type": "code",
   "execution_count": 95,
   "metadata": {},
   "outputs": [
    {
     "name": "stdout",
     "output_type": "stream",
     "text": [
      "gini = 47.81458333333333%\n",
      "entropy = 47.941279761904724%\n"
     ]
    }
   ],
   "source": [
    "for criterion in best_criterion:\n",
    "    print(f'{criterion} = {100*best_criterion[criterion]/(100*10)}%')"
   ]
  },
  {
   "cell_type": "markdown",
   "metadata": {},
   "source": [
    "Wyniki są analogiczne do wyników drzewa decyzyjnego. Kreterium 'entropy' jest lepsze niż 'gini'."
   ]
  },
  {
   "cell_type": "code",
   "execution_count": 88,
   "metadata": {},
   "outputs": [
    {
     "name": "stdout",
     "output_type": "stream",
     "text": [
      "25 = 47.047544642857126%\n",
      "50 = 47.715476190476174%\n",
      "100 = 48.086830357142865%\n",
      "200 = 48.2469494047619%\n",
      "400 = 48.292857142857144%\n"
     ]
    }
   ],
   "source": [
    "for n_estimators in best_n_estimators:\n",
    "    print(f'{n_estimators} = {100*best_n_estimators[n_estimators]/(40*10)}%')"
   ]
  },
  {
   "cell_type": "markdown",
   "metadata": {},
   "source": [
    "Można zauważyć zależność, że im większa liczba drzew w lesie tym lepszy wynik. Jest to logiczny wniosek, dzięki większej ilości 'głosujących' możemy uzyskać lepsze uogólnienie."
   ]
  },
  {
   "cell_type": "code",
   "execution_count": 89,
   "metadata": {},
   "outputs": [
    {
     "name": "stdout",
     "output_type": "stream",
     "text": [
      "2 = 48.08988095238094%\n",
      "4 = 48.12494047619047%\n",
      "8 = 47.97047619047618%\n",
      "16 = 47.326428571428565%\n"
     ]
    }
   ],
   "source": [
    "for min_samples_splits in best_min_samples_splits:\n",
    "    print(f'{min_samples_splits} = {100*best_min_samples_splits[min_samples_splits]/(50*10)}%')"
   ]
  },
  {
   "cell_type": "markdown",
   "metadata": {},
   "source": [
    "Wyniki odbiegają od wyników w drzewie decyzyjnym. Tam najlepsza wartość min_samples_split wynosiła 16. Dla lasów losowych mniejsza wartość daje lepsze wyniki. W naszym przypadku 4. Jest to prawdopodobnie spowodowane tym, że las sam w sobie dzięki dużej ilości drzew jest w stanie dobrze uogólniać, a jeśli do tego zwiększymy uogólnianie dla poszczególnych drzew możemy utracić część informacji."
   ]
  },
  {
   "cell_type": "code",
   "execution_count": 90,
   "metadata": {},
   "outputs": [
    {
     "name": "stdout",
     "output_type": "stream",
     "text": [
      "1 = 49.816294642857144%\n",
      "2 = 49.3921875%\n",
      "4 = 48.44962797619047%\n",
      "8 = 46.889285714285705%\n",
      "16 = 44.8422619047619%\n"
     ]
    }
   ],
   "source": [
    "for min_samples_leaves in best_min_samples_leaves:\n",
    "    print(f'{min_samples_leaves} = {100*best_min_samples_leaves[min_samples_leaves]/(40*10)}%')"
   ]
  },
  {
   "cell_type": "markdown",
   "metadata": {},
   "source": [
    "Tutaj również im mniejsza wartość min_samples_leaf tym lepiej. Analogiczna sytuacja jak dla min_samples_split."
   ]
  },
  {
   "cell_type": "code",
   "execution_count": 97,
   "metadata": {},
   "outputs": [
    {
     "name": "stdout",
     "output_type": "stream",
     "text": [
      "entropy, 400, 2, 1 = 51.14880952380951\n",
      "gini, 400, 2, 1 = 51.056547619047606\n",
      "entropy, 400, 4, 1 = 51.03571428571428\n"
     ]
    }
   ],
   "source": [
    "results_forest.sort(key=lambda x: x.result, reverse=True)\n",
    "for i in range(3):\n",
    "    result = results_forest[i]\n",
    "    print(f'{result.criterion}, {result.n_estimators}, {result.min_samples_split}, {result.min_samples_leaf} = {100 * result.result / n_runs}')"
   ]
  },
  {
   "cell_type": "markdown",
   "metadata": {},
   "source": [
    "Najlepsze wyniki daje kryterium = 'entropy', n_estimators = 400, min_samples_spilt = 2 i min_samples_leaf = 1, co pokrywa się z wcześniejszą analizą. Należy jedenak zauważyć, że wyniki są bardzo zbliżone."
   ]
  },
  {
   "cell_type": "markdown",
   "metadata": {},
   "source": [
    "#### Wizualizacja dokładności modeli"
   ]
  },
  {
   "cell_type": "code",
   "execution_count": 132,
   "metadata": {},
   "outputs": [
    {
     "name": "stdout",
     "output_type": "stream",
     "text": [
      "accuracy = 44.49404761904761%\n",
      "[[  1  13   0   0   0   0   0   0   0   0   0   0   0   0   0]\n",
      " [  4 135  62   6   1   0   0   0   0   0   0   0   0   0   0]\n",
      " [  1  70 203  71  12   2   0   0   0   0   0   0   0   0   0]\n",
      " [  0  11  91 204  81  28   2   4   2   0   0   0   0   0   0]\n",
      " [  0   0  19  72 220  90  21   8   0   0   0   0   0   0   0]\n",
      " [  0   0   4  26 101 244  65  22   2   2   0   0   0   0   0]\n",
      " [  0   0   0   6  39  93 119  48  10  13   3   2   1   0   0]\n",
      " [  0   1   0   0  11  31  69 110  42  19   3   3   2   1   1]\n",
      " [  0   0   0   3   5   7  30  54  52  34   9   3   4   1   2]\n",
      " [  0   0   0   0   5   4   9  36  29  64  23  11   6   2   2]\n",
      " [  0   0   0   0   0   0   5   6  10  27  21  14   4   4   5]\n",
      " [  0   0   0   0   1   1   4   6   6  14  11  16   4   5  12]\n",
      " [  0   0   0   0   1   0   0   6   5   4   7  16   7   8  10]\n",
      " [  0   0   0   0   0   0   1   1   2   1   9  11   7  16  16]\n",
      " [  0   0   0   0   1   0   3   3   4   3   9  13   7   8  83]]\n"
     ]
    },
    {
     "data": {
      "text/plain": [
       "<Axes: >"
      ]
     },
     "execution_count": 132,
     "metadata": {},
     "output_type": "execute_result"
    },
    {
     "data": {
      "image/png": "[encoded data removed]",
      "text/plain": [
       "<Figure size 1170x827 with 2 Axes>"
      ]
     },
     "metadata": {},
     "output_type": "display_data"
    }
   ],
   "source": [
    "x_train, x_test, y_train, y_test = get_splits(cleaned_data_BM)\n",
    "model = tree.DecisionTreeClassifier(criterion='entropy', splitter='best', min_samples_split=16, min_samples_leaf=4, random_state=42)\n",
    "model.fit(x_train, y_train)\n",
    "print(f'accuracy = {100*model.score(x_test, y_test)}%')\n",
    "print(confusion_matrix(y_test, model.predict(x_test)))\n",
    "sns.heatmap(confusion_matrix(y_test, model.predict(x_test)))"
   ]
  },
  {
   "cell_type": "code",
   "execution_count": 134,
   "metadata": {},
   "outputs": [
    {
     "name": "stdout",
     "output_type": "stream",
     "text": [
      "accuracy = 51.36904761904761%\n",
      "[[  0  14   0   0   0   0   0   0   0   0   0   0   0   0   0]\n",
      " [  0 143  59   6   0   0   0   0   0   0   0   0   0   0   0]\n",
      " [  0  37 242  75   4   1   0   0   0   0   0   0   0   0   0]\n",
      " [  0   3  86 251  68  14   1   0   0   0   0   0   0   0   0]\n",
      " [  0   0   9  86 220 103  11   1   0   0   0   0   0   0   0]\n",
      " [  0   0   1  13  75 292  65  18   2   0   0   0   0   0   0]\n",
      " [  0   0   1   5  11 109 139  49  10   9   0   1   0   0   0]\n",
      " [  0   0   0   1   2  34  68 111  54  21   1   1   0   0   0]\n",
      " [  0   0   0   0   2   8  14  57  78  33   9   2   1   0   0]\n",
      " [  0   0   0   0   2   1   3  32  43  68  23  12   1   1   5]\n",
      " [  0   0   0   0   0   0   1   6  14  25  27  17   1   3   2]\n",
      " [  0   0   0   0   0   3   3   2   5  10  15  24   4   3  11]\n",
      " [  0   0   0   0   0   2   0   2   2   3   7  19  10  10   9]\n",
      " [  0   0   0   0   0   0   0   0   2   0   3   7  11  20  21]\n",
      " [  0   0   0   0   0   0   2   0   2   1   4   7   7  10 101]]\n"
     ]
    },
    {
     "data": {
      "text/plain": [
       "<Axes: >"
      ]
     },
     "execution_count": 134,
     "metadata": {},
     "output_type": "execute_result"
    },
    {
     "data": {
      "image/png": "[encoded data removed]",
      "text/plain": [
       "<Figure size 1170x827 with 2 Axes>"
      ]
     },
     "metadata": {},
     "output_type": "display_data"
    }
   ],
   "source": [
    "x_train, x_test, y_train, y_test = get_splits(cleaned_data_BM)\n",
    "model = ensemble.RandomForestClassifier(criterion='entropy', n_estimators=400, min_samples_split=2, min_samples_leaf=1, random_state=42, n_jobs=-1)\n",
    "model.fit(x_train, y_train)\n",
    "print(f'accuracy = {100*model.score(x_test, y_test)}%')\n",
    "print(confusion_matrix(y_test, model.predict(x_test)))\n",
    "sns.heatmap(confusion_matrix(y_test, model.predict(x_test)))"
   ]
  },
  {
   "cell_type": "markdown",
   "metadata": {},
   "source": [
    "##### Wnioski\n",
    "Jak widzimy las losowy osiąga znacznie lepsze wyniki od drzewa decyzyjnego, dzięki temu, że jest w stanie lepiej uogólniać. Nasze modele najczęsciej mylą klasy z sąsiadującymi klasami. Ma to sens, jeśli weźmiemy pod uwagę fakt, że sąsiadujące klasy są najbliżej cenowo."
   ]
  },
  {
   "cell_type": "markdown",
   "metadata": {},
   "source": [
    "#### Zbadanie przydatności atrybutów"
   ]
  },
  {
   "cell_type": "code",
   "execution_count": 120,
   "metadata": {},
   "outputs": [
    {
     "data": {
      "text/plain": [
       "<Axes: >"
      ]
     },
     "execution_count": 120,
     "metadata": {},
     "output_type": "execute_result"
    },
    {
     "data": {
      "image/png": "[encoded data removed]",
      "text/plain": [
       "<Figure size 1170x827 with 1 Axes>"
      ]
     },
     "metadata": {},
     "output_type": "display_data"
    }
   ],
   "source": [
    "x_train, x_test, y_train, y_test = get_splits(cleaned_data_BM)\n",
    "results = {}\n",
    "n_runs=100\n",
    "for run in range(n_runs):\n",
    "    model = tree.DecisionTreeClassifier(criterion='entropy', splitter='best', min_samples_split=16, min_samples_leaf=4, random_state=run)\n",
    "    model.fit(x_train, y_train)\n",
    "\n",
    "    feature_importances = model.feature_importances_\n",
    "    sorted_indices = feature_importances.argsort()[::-1]\n",
    "    sorted_feature_names = model.feature_names_in_[sorted_indices]\n",
    "    sorted_importances = feature_importances[sorted_indices]\n",
    "    for ix, name in enumerate(sorted_feature_names):\n",
    "        if name not in results:\n",
    "            results[name] = sorted_importances[ix]\n",
    "        else:\n",
    "            results[name] += sorted_importances[ix]\n",
    "\n",
    "\n",
    "sns.barplot(results, orient='h')"
   ]
  },
  {
   "cell_type": "code",
   "execution_count": 123,
   "metadata": {},
   "outputs": [
    {
     "data": {
      "text/plain": [
       "<Axes: >"
      ]
     },
     "execution_count": 123,
     "metadata": {},
     "output_type": "execute_result"
    },
    {
     "data": {
      "image/png": "[encoded data removed]",
      "text/plain": [
       "<Figure size 1170x827 with 1 Axes>"
      ]
     },
     "metadata": {},
     "output_type": "display_data"
    }
   ],
   "source": [
    "x_train, x_test, y_train, y_test = get_splits(cleaned_data_BM)\n",
    "results = {}\n",
    "n_runs=20\n",
    "for run in range(n_runs):\n",
    "    model = ensemble.RandomForestClassifier(criterion='entropy', n_estimators=400, min_samples_split=2, min_samples_leaf=1, random_state=run, n_jobs=-1)\n",
    "    model.fit(x_train, y_train)\n",
    "\n",
    "    feature_importances = model.feature_importances_\n",
    "    sorted_indices = feature_importances.argsort()[::-1]\n",
    "    sorted_feature_names = model.feature_names_in_[sorted_indices]\n",
    "    sorted_importances = feature_importances[sorted_indices]\n",
    "    for ix, name in enumerate(sorted_feature_names):\n",
    "        if name not in results:\n",
    "            results[name] = sorted_importances[ix]\n",
    "        else:\n",
    "            results[name] += sorted_importances[ix]\n",
    "\n",
    "\n",
    "sns.barplot(results, orient='h')"
   ]
  },
  {
   "cell_type": "markdown",
   "metadata": {},
   "source": [
    "<b>Wnioski</b>\n",
    "<br>\n",
    "Jak widzimy dla obu rodzajów klasyfikatorów najważniejszymi atrybutami są:\n",
    "<ul>\n",
    "    <li>Year</li>\n",
    "    <li>Brand_Model</li>\n",
    "    <li>Kilometres</li>\n",
    "    <li>Displacement</li>\n",
    "    <li>Fuel Consumption</li>\n",
    "    <li>Location</li>\n",
    "    <li>Body Type</li>\n",
    "    <li>Unleaded</li>\n",
    "    <li>Front</li>\n",
    "    <li>Colour Exterior</li>\n",
    "</ul>\n",
    "Zdziwiła nas tak wysoka pozycja 'Location' i 'ColourExterior'. Myśleliśmy, że te kategorie nie będą aż tak przydatne przy klasyfikacji. Nie spodziewaliśmy się również, tak niskiej pozycji atrybutu 'UsedOrNew'. Możliwe, że wynika to z jego korelacji z 'Year' i 'Kilometres', co sprawia, że jest zbędny."
   ]
  },
  {
   "cell_type": "code",
   "execution_count": 126,
   "metadata": {},
   "outputs": [],
   "source": [
    "datasets = [cleaned_data_BM, cleaned_data_BM.copy().drop(columns=['NumOfSeats', 'Cylinders', 'NumOfDoors', '4WD', 'AWD', 'Diesel', 'Transmission', 'Premium', 'UsedOrNew', 'Rear', 'Hybrid'])]\n",
    "n_runs=10"
   ]
  },
  {
   "cell_type": "code",
   "execution_count": 127,
   "metadata": {},
   "outputs": [
    {
     "name": "stdout",
     "output_type": "stream",
     "text": [
      "oryginalne dane = 44.47619047619047\n",
      "uproszczone dane = 42.31249999999999\n"
     ]
    }
   ],
   "source": [
    "results = [0, 0]\n",
    "for ix, dataset in enumerate(datasets):\n",
    "    x_train, x_test, y_train, y_test = get_splits(dataset)\n",
    "    for run in range(n_runs):\n",
    "        model = tree.DecisionTreeClassifier(criterion='entropy', splitter='best', min_samples_split=16, min_samples_leaf=4, random_state=run)\n",
    "        model.fit(x_train, y_train)\n",
    "        results[ix] += model.score(x_test, y_test)\n",
    "\n",
    "\n",
    "print(f'oryginalne dane = {100*results[0]/n_runs}')\n",
    "print(f'uproszczone dane = {100*results[1]/n_runs}')"
   ]
  },
  {
   "cell_type": "code",
   "execution_count": 128,
   "metadata": {},
   "outputs": [
    {
     "name": "stdout",
     "output_type": "stream",
     "text": [
      "oryginalne dane = 51.14880952380951\n",
      "uproszczone dane = 50.041666666666664\n"
     ]
    }
   ],
   "source": [
    "results = [0, 0]\n",
    "for ix, dataset in enumerate(datasets):\n",
    "    x_train, x_test, y_train, y_test = get_splits(dataset)\n",
    "    for run in range(n_runs):\n",
    "        model = ensemble.RandomForestClassifier(criterion='entropy', n_estimators=400, min_samples_split=2, min_samples_leaf=1, random_state=run, n_jobs=-1)\n",
    "        model.fit(x_train, y_train)\n",
    "        results[ix] += model.score(x_test, y_test)\n",
    "\n",
    "\n",
    "print(f'oryginalne dane = {100*results[0]/n_runs}')\n",
    "print(f'uproszczone dane = {100*results[1]/n_runs}')"
   ]
  },
  {
   "cell_type": "markdown",
   "metadata": {},
   "source": [
    "##### Wnioski\n",
    "Dokładność modeli na uproszczonych danych jest gorsza, co jest oczywiste z powodu utraty dużej części informacji. Należy jednak zwrócić uwagę, że wyniki nie różnią się znacząco, a usunęliśmy aż 11 z 21 atrybutów, co pokazuje że możemy poświęcić odrobinę dokładności dla dużych zysków pamięciowych i obliczeniowych."
   ]
  }
 ],
 "metadata": {
  "kernelspec": {
   "display_name": "Python 3",
   "language": "python",
   "name": "python3"
  },
  "language_info": {
   "codemirror_mode": {
    "name": "ipython",
    "version": 3
   },
   "file_extension": ".py",
   "mimetype": "text/x-python",
   "name": "python",
   "nbconvert_exporter": "python",
   "pygments_lexer": "ipython3",
   "version": "3.10.10"
  }
 },
 "nbformat": 4,
 "nbformat_minor": 2
}
